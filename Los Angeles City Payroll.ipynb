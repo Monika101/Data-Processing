{
 "cells": [
  {
   "cell_type": "code",
   "execution_count": 1,
   "metadata": {
    "collapsed": true
   },
   "outputs": [],
   "source": [
    "import pandas as pd"
   ]
  },
  {
   "cell_type": "code",
   "execution_count": 4,
   "metadata": {
    "collapsed": false
   },
   "outputs": [],
   "source": [
    "losAngeles = pd.read_csv('data.csv', low_memory = False)"
   ]
  },
  {
   "cell_type": "code",
   "execution_count": 54,
   "metadata": {
    "collapsed": false,
    "scrolled": false
   },
   "outputs": [
    {
     "data": {
      "text/html": [
       "<div>\n",
       "<table border=\"1\" class=\"dataframe\">\n",
       "  <thead>\n",
       "    <tr style=\"text-align: right;\">\n",
       "      <th></th>\n",
       "      <th>Year</th>\n",
       "      <th>Department Title</th>\n",
       "      <th>Payroll Department</th>\n",
       "      <th>Record Number</th>\n",
       "      <th>Job Class Title</th>\n",
       "      <th>Employment Type</th>\n",
       "      <th>Hourly or Event Rate</th>\n",
       "      <th>Projected Annual Salary</th>\n",
       "      <th>Q1 Payments</th>\n",
       "      <th>Q2 Payments</th>\n",
       "      <th>...</th>\n",
       "      <th>MOU Title</th>\n",
       "      <th>FMS Department</th>\n",
       "      <th>Job Class</th>\n",
       "      <th>Pay Grade</th>\n",
       "      <th>Average Health Cost</th>\n",
       "      <th>Average Dental Cost</th>\n",
       "      <th>Average Basic Life</th>\n",
       "      <th>Average Benefit Cost</th>\n",
       "      <th>Benefits Plan</th>\n",
       "      <th>Job Class Link</th>\n",
       "    </tr>\n",
       "    <tr>\n",
       "      <th>Row ID</th>\n",
       "      <th></th>\n",
       "      <th></th>\n",
       "      <th></th>\n",
       "      <th></th>\n",
       "      <th></th>\n",
       "      <th></th>\n",
       "      <th></th>\n",
       "      <th></th>\n",
       "      <th></th>\n",
       "      <th></th>\n",
       "      <th></th>\n",
       "      <th></th>\n",
       "      <th></th>\n",
       "      <th></th>\n",
       "      <th></th>\n",
       "      <th></th>\n",
       "      <th></th>\n",
       "      <th></th>\n",
       "      <th></th>\n",
       "      <th></th>\n",
       "      <th></th>\n",
       "    </tr>\n",
       "  </thead>\n",
       "  <tbody>\n",
       "    <tr>\n",
       "      <th>111391</th>\n",
       "      <td>2014</td>\n",
       "      <td>Water And Power (DWP)</td>\n",
       "      <td>NaN</td>\n",
       "      <td>1412316577</td>\n",
       "      <td>Commercial Service Representative</td>\n",
       "      <td>Full Time</td>\n",
       "      <td>NaN</td>\n",
       "      <td>$70386.48</td>\n",
       "      <td>$16129.89</td>\n",
       "      <td>$17829.78</td>\n",
       "      <td>...</td>\n",
       "      <td>NaN</td>\n",
       "      <td>98</td>\n",
       "      <td>1230</td>\n",
       "      <td>NaN</td>\n",
       "      <td>$16842.08</td>\n",
       "      <td>$1282.61</td>\n",
       "      <td>$0.00</td>\n",
       "      <td>$18124.69</td>\n",
       "      <td>DWP</td>\n",
       "      <td>http://per.lacity.org/perspecs/1230.pdf</td>\n",
       "    </tr>\n",
       "    <tr>\n",
       "      <th>31732</th>\n",
       "      <td>2013</td>\n",
       "      <td>Police (LAPD)</td>\n",
       "      <td>4301.0</td>\n",
       "      <td>432728338</td>\n",
       "      <td>Police Officer I</td>\n",
       "      <td>Full Time</td>\n",
       "      <td>$25.12</td>\n",
       "      <td>$52450.56</td>\n",
       "      <td>$11331.00</td>\n",
       "      <td>$13859.93</td>\n",
       "      <td>...</td>\n",
       "      <td>POLICE OFFICERS UNIT</td>\n",
       "      <td>70</td>\n",
       "      <td>2214</td>\n",
       "      <td>A</td>\n",
       "      <td>$11651.40</td>\n",
       "      <td>$898.08</td>\n",
       "      <td>$191.04</td>\n",
       "      <td>$12740.52</td>\n",
       "      <td>Police</td>\n",
       "      <td>http://per.lacity.org/perspecs/2214.pdf</td>\n",
       "    </tr>\n",
       "    <tr>\n",
       "      <th>27697</th>\n",
       "      <td>2013</td>\n",
       "      <td>Police (LAPD)</td>\n",
       "      <td>4301.0</td>\n",
       "      <td>97182506</td>\n",
       "      <td>Police Officer II</td>\n",
       "      <td>Full Time</td>\n",
       "      <td>$42.77</td>\n",
       "      <td>$89303.76</td>\n",
       "      <td>$20036.32</td>\n",
       "      <td>$23479.20</td>\n",
       "      <td>...</td>\n",
       "      <td>POLICE OFFICERS UNIT</td>\n",
       "      <td>70</td>\n",
       "      <td>2214</td>\n",
       "      <td>2</td>\n",
       "      <td>$11651.40</td>\n",
       "      <td>$898.08</td>\n",
       "      <td>$191.04</td>\n",
       "      <td>$12740.52</td>\n",
       "      <td>Police</td>\n",
       "      <td>http://per.lacity.org/perspecs/2214.pdf</td>\n",
       "    </tr>\n",
       "    <tr>\n",
       "      <th>14136</th>\n",
       "      <td>2013</td>\n",
       "      <td>Harbor (Port of LA)</td>\n",
       "      <td>3201.0</td>\n",
       "      <td>950136941</td>\n",
       "      <td>Senior Security Officer</td>\n",
       "      <td>Full Time</td>\n",
       "      <td>$28.75</td>\n",
       "      <td>$60028.96</td>\n",
       "      <td>$15793.88</td>\n",
       "      <td>$18560.38</td>\n",
       "      <td>...</td>\n",
       "      <td>SUPV BLUE COLLAR</td>\n",
       "      <td>42</td>\n",
       "      <td>3184</td>\n",
       "      <td>0</td>\n",
       "      <td>$10710.24</td>\n",
       "      <td>$405.24</td>\n",
       "      <td>$11.40</td>\n",
       "      <td>$11126.88</td>\n",
       "      <td>City</td>\n",
       "      <td>http://per.lacity.org/perspecs/3184.pdf</td>\n",
       "    </tr>\n",
       "    <tr>\n",
       "      <th>91896</th>\n",
       "      <td>2014</td>\n",
       "      <td>Public Works - Sanitation</td>\n",
       "      <td>7024.0</td>\n",
       "      <td>3230003445</td>\n",
       "      <td>Senior Clerk Typist</td>\n",
       "      <td>Full Time</td>\n",
       "      <td>$30.92</td>\n",
       "      <td>$64553.13</td>\n",
       "      <td>$14700.00</td>\n",
       "      <td>$17313.10</td>\n",
       "      <td>...</td>\n",
       "      <td>CLERICAL UNIT</td>\n",
       "      <td>82</td>\n",
       "      <td>1368</td>\n",
       "      <td>0</td>\n",
       "      <td>$11000.40</td>\n",
       "      <td>$409.68</td>\n",
       "      <td>$11.40</td>\n",
       "      <td>$11421.48</td>\n",
       "      <td>City</td>\n",
       "      <td>http://per.lacity.org/perspecs/1368.pdf</td>\n",
       "    </tr>\n",
       "  </tbody>\n",
       "</table>\n",
       "<p>5 rows × 34 columns</p>\n",
       "</div>"
      ],
      "text/plain": [
       "        Year           Department Title Payroll Department Record Number  \\\n",
       "Row ID                                                                     \n",
       "111391  2014      Water And Power (DWP)                NaN    1412316577   \n",
       "31732   2013              Police (LAPD)             4301.0     432728338   \n",
       "27697   2013              Police (LAPD)             4301.0      97182506   \n",
       "14136   2013        Harbor (Port of LA)             3201.0     950136941   \n",
       "91896   2014  Public Works - Sanitation             7024.0    3230003445   \n",
       "\n",
       "                          Job Class Title Employment Type  \\\n",
       "Row ID                                                      \n",
       "111391  Commercial Service Representative       Full Time   \n",
       "31732                    Police Officer I       Full Time   \n",
       "27697                   Police Officer II       Full Time   \n",
       "14136             Senior Security Officer       Full Time   \n",
       "91896                 Senior Clerk Typist       Full Time   \n",
       "\n",
       "       Hourly or Event Rate Projected Annual Salary Q1 Payments Q2 Payments  \\\n",
       "Row ID                                                                        \n",
       "111391                  NaN               $70386.48   $16129.89   $17829.78   \n",
       "31732                $25.12               $52450.56   $11331.00   $13859.93   \n",
       "27697                $42.77               $89303.76   $20036.32   $23479.20   \n",
       "14136                $28.75               $60028.96   $15793.88   $18560.38   \n",
       "91896                $30.92               $64553.13   $14700.00   $17313.10   \n",
       "\n",
       "                         ...                                MOU Title  \\\n",
       "Row ID                   ...                                            \n",
       "111391                   ...                                      NaN   \n",
       "31732                    ...                     POLICE OFFICERS UNIT   \n",
       "27697                    ...                     POLICE OFFICERS UNIT   \n",
       "14136                    ...                         SUPV BLUE COLLAR   \n",
       "91896                    ...                            CLERICAL UNIT   \n",
       "\n",
       "       FMS Department Job Class Pay Grade Average Health Cost  \\\n",
       "Row ID                                                          \n",
       "111391             98      1230       NaN           $16842.08   \n",
       "31732              70      2214         A           $11651.40   \n",
       "27697              70      2214         2           $11651.40   \n",
       "14136              42      3184         0           $10710.24   \n",
       "91896              82      1368         0           $11000.40   \n",
       "\n",
       "       Average Dental Cost Average Basic Life Average Benefit Cost  \\\n",
       "Row ID                                                               \n",
       "111391            $1282.61              $0.00            $18124.69   \n",
       "31732              $898.08            $191.04            $12740.52   \n",
       "27697              $898.08            $191.04            $12740.52   \n",
       "14136              $405.24             $11.40            $11126.88   \n",
       "91896              $409.68             $11.40            $11421.48   \n",
       "\n",
       "       Benefits Plan                           Job Class Link  \n",
       "Row ID                                                         \n",
       "111391           DWP  http://per.lacity.org/perspecs/1230.pdf  \n",
       "31732         Police  http://per.lacity.org/perspecs/2214.pdf  \n",
       "27697         Police  http://per.lacity.org/perspecs/2214.pdf  \n",
       "14136           City  http://per.lacity.org/perspecs/3184.pdf  \n",
       "91896           City  http://per.lacity.org/perspecs/1368.pdf  \n",
       "\n",
       "[5 rows x 34 columns]"
      ]
     },
     "execution_count": 54,
     "metadata": {},
     "output_type": "execute_result"
    }
   ],
   "source": [
    "losAngeles.head()"
   ]
  },
  {
   "cell_type": "markdown",
   "metadata": {},
   "source": [
    "### Overview of Los Angeles City Payroll Columns"
   ]
  },
  {
   "cell_type": "code",
   "execution_count": 7,
   "metadata": {
    "collapsed": false
   },
   "outputs": [
    {
     "data": {
      "text/plain": [
       "Index(['Row ID', 'Year', 'Department Title', 'Payroll Department',\n",
       "       'Record Number', 'Job Class Title', 'Employment Type',\n",
       "       'Hourly or Event Rate', 'Projected Annual Salary', 'Q1 Payments',\n",
       "       'Q2 Payments', 'Q3 Payments', 'Q4 Payments', 'Payments Over Base Pay',\n",
       "       '% Over Base Pay', 'Total Payments', 'Base Pay', 'Permanent Bonus Pay',\n",
       "       'Longevity Bonus Pay', 'Temporary Bonus Pay', 'Lump Sum Pay',\n",
       "       'Overtime Pay', 'Other Pay & Adjustments',\n",
       "       'Other Pay (Payroll Explorer)', 'MOU', 'MOU Title', 'FMS Department',\n",
       "       'Job Class', 'Pay Grade', 'Average Health Cost', 'Average Dental Cost',\n",
       "       'Average Basic Life', 'Average Benefit Cost', 'Benefits Plan',\n",
       "       'Job Class Link'],\n",
       "      dtype='object')"
      ]
     },
     "execution_count": 7,
     "metadata": {},
     "output_type": "execute_result"
    }
   ],
   "source": [
    "losAngeles.columns"
   ]
  },
  {
   "cell_type": "markdown",
   "metadata": {},
   "source": [
    "### Unique cells checked in Row ID to determine column's suitability for DataFrame ID."
   ]
  },
  {
   "cell_type": "code",
   "execution_count": 40,
   "metadata": {
    "collapsed": false
   },
   "outputs": [
    {
     "data": {
      "text/plain": [
       "285008"
      ]
     },
     "execution_count": 40,
     "metadata": {},
     "output_type": "execute_result"
    }
   ],
   "source": [
    "losAngeles['Row ID'].nunique()"
   ]
  },
  {
   "cell_type": "markdown",
   "metadata": {},
   "source": [
    "### Take a look at size of the file to determine which fields can be turned into 'category' in order to reference a small list of values"
   ]
  },
  {
   "cell_type": "code",
   "execution_count": 8,
   "metadata": {
    "collapsed": false,
    "scrolled": true
   },
   "outputs": [
    {
     "name": "stdout",
     "output_type": "stream",
     "text": [
      "<class 'pandas.core.frame.DataFrame'>\n",
      "RangeIndex: 285008 entries, 0 to 285007\n",
      "Data columns (total 35 columns):\n",
      "Row ID                          285008 non-null int64\n",
      "Year                            285008 non-null int64\n",
      "Department Title                285008 non-null object\n",
      "Payroll Department              231463 non-null float64\n",
      "Record Number                   285008 non-null object\n",
      "Job Class Title                 285008 non-null object\n",
      "Employment Type                 285008 non-null object\n",
      "Hourly or Event Rate            263987 non-null object\n",
      "Projected Annual Salary         285008 non-null object\n",
      "Q1 Payments                     285008 non-null object\n",
      "Q2 Payments                     285008 non-null object\n",
      "Q3 Payments                     285008 non-null object\n",
      "Q4 Payments                     285008 non-null object\n",
      "Payments Over Base Pay          285008 non-null object\n",
      "% Over Base Pay                 285008 non-null object\n",
      "Total Payments                  285008 non-null object\n",
      "Base Pay                        285008 non-null object\n",
      "Permanent Bonus Pay             285008 non-null object\n",
      "Longevity Bonus Pay             285008 non-null object\n",
      "Temporary Bonus Pay             285008 non-null object\n",
      "Lump Sum Pay                    242744 non-null object\n",
      "Overtime Pay                    284574 non-null object\n",
      "Other Pay & Adjustments         285008 non-null object\n",
      "Other Pay (Payroll Explorer)    285008 non-null object\n",
      "MOU                             263987 non-null object\n",
      "MOU Title                       263987 non-null object\n",
      "FMS Department                  285008 non-null int64\n",
      "Job Class                       285008 non-null int64\n",
      "Pay Grade                       187905 non-null object\n",
      "Average Health Cost             285008 non-null object\n",
      "Average Dental Cost             285008 non-null object\n",
      "Average Basic Life              285008 non-null object\n",
      "Average Benefit Cost            285008 non-null object\n",
      "Benefits Plan                   245926 non-null object\n",
      "Job Class Link                  285008 non-null object\n",
      "dtypes: float64(1), int64(4), object(30)\n",
      "memory usage: 76.1+ MB\n"
     ]
    }
   ],
   "source": [
    "losAngeles.info()"
   ]
  },
  {
   "cell_type": "markdown",
   "metadata": {},
   "source": [
    "### Unique categories counted for likely candidate in order to reduce size."
   ]
  },
  {
   "cell_type": "code",
   "execution_count": 23,
   "metadata": {
    "collapsed": false
   },
   "outputs": [
    {
     "data": {
      "text/plain": [
       "3"
      ]
     },
     "execution_count": 23,
     "metadata": {},
     "output_type": "execute_result"
    }
   ],
   "source": [
    "losAngeles['Employment Type'].nunique()"
   ]
  },
  {
   "cell_type": "code",
   "execution_count": 38,
   "metadata": {
    "collapsed": false,
    "scrolled": true
   },
   "outputs": [],
   "source": [
    "losAngeles['Employment Type'] = losAngeles['Employment Type'].astype('category')\n",
    "losAngeles['Department Title'] = losAngeles['Department Title'].astype('category')\n",
    "losAngeles['Year'] = losAngeles['Year'].astype('category')\n",
    "losAngeles['Payroll Department'] = losAngeles['Payroll Department'].astype('category')\n",
    "losAngeles['FMS Department'] = losAngeles['FMS Department'].astype('category')\n",
    "losAngeles['Pay Grade'] = losAngeles['Pay Grade'].astype('category')\n",
    "losAngeles['Job Class'] = losAngeles['Job Class'].astype('category')\n",
    "losAngeles['MOU Title'] = losAngeles['MOU Title'].astype('category')\n",
    "losAngeles['Benefits Plan'] = losAngeles['Benefits Plan'].astype('category')"
   ]
  },
  {
   "cell_type": "code",
   "execution_count": 39,
   "metadata": {
    "collapsed": false,
    "scrolled": true
   },
   "outputs": [
    {
     "name": "stdout",
     "output_type": "stream",
     "text": [
      "<class 'pandas.core.frame.DataFrame'>\n",
      "RangeIndex: 285008 entries, 0 to 285007\n",
      "Data columns (total 35 columns):\n",
      "Row ID                          285008 non-null int64\n",
      "Year                            285008 non-null category\n",
      "Department Title                285008 non-null category\n",
      "Payroll Department              231463 non-null category\n",
      "Record Number                   285008 non-null object\n",
      "Job Class Title                 285008 non-null object\n",
      "Employment Type                 285008 non-null category\n",
      "Hourly or Event Rate            263987 non-null object\n",
      "Projected Annual Salary         285008 non-null object\n",
      "Q1 Payments                     285008 non-null object\n",
      "Q2 Payments                     285008 non-null object\n",
      "Q3 Payments                     285008 non-null object\n",
      "Q4 Payments                     285008 non-null object\n",
      "Payments Over Base Pay          285008 non-null object\n",
      "% Over Base Pay                 285008 non-null object\n",
      "Total Payments                  285008 non-null object\n",
      "Base Pay                        285008 non-null object\n",
      "Permanent Bonus Pay             285008 non-null object\n",
      "Longevity Bonus Pay             285008 non-null object\n",
      "Temporary Bonus Pay             285008 non-null object\n",
      "Lump Sum Pay                    242744 non-null object\n",
      "Overtime Pay                    284574 non-null object\n",
      "Other Pay & Adjustments         285008 non-null object\n",
      "Other Pay (Payroll Explorer)    285008 non-null object\n",
      "MOU                             263987 non-null object\n",
      "MOU Title                       263987 non-null category\n",
      "FMS Department                  285008 non-null category\n",
      "Job Class                       285008 non-null category\n",
      "Pay Grade                       187905 non-null category\n",
      "Average Health Cost             285008 non-null object\n",
      "Average Dental Cost             285008 non-null object\n",
      "Average Basic Life              285008 non-null object\n",
      "Average Benefit Cost            285008 non-null object\n",
      "Benefits Plan                   245926 non-null category\n",
      "Job Class Link                  285008 non-null object\n",
      "dtypes: category(9), int64(1), object(25)\n",
      "memory usage: 59.8+ MB\n"
     ]
    }
   ],
   "source": [
    "losAngeles.info()"
   ]
  },
  {
   "cell_type": "markdown",
   "metadata": {},
   "source": [
    "### Set DataFrame 'Row ID' as index as it is unique"
   ]
  },
  {
   "cell_type": "code",
   "execution_count": 44,
   "metadata": {
    "collapsed": false,
    "scrolled": true
   },
   "outputs": [],
   "source": [
    "losAngeles.set_index(['Row ID'], inplace = True)"
   ]
  },
  {
   "cell_type": "markdown",
   "metadata": {},
   "source": [
    "### Group by Year"
   ]
  },
  {
   "cell_type": "code",
   "execution_count": 47,
   "metadata": {
    "collapsed": false
   },
   "outputs": [],
   "source": [
    "Grouped_losAngeles = losAngeles.groupby('Year')"
   ]
  },
  {
   "cell_type": "code",
   "execution_count": 53,
   "metadata": {
    "collapsed": false
   },
   "outputs": [
    {
     "data": {
      "text/plain": [
       "{2013: Int64Index([31732, 27697, 14136, 53269, 22672, 52209, 55051, 48216, 13424,\n",
       "             48564,\n",
       "             ...\n",
       "              8365,  8366,  8367,  8368,  8369,  8370,  8371,  8375,  8376,\n",
       "              8377],\n",
       "            dtype='int64', name='Row ID', length=57379),\n",
       " 2014: Int64Index([111391,  91896, 106560,  59695,  71037,  69509, 110008, 106631,\n",
       "             100155,  66296,\n",
       "             ...\n",
       "              99990,  99991,  99992,  99993,  99994,  99995,  99996,  99997,\n",
       "              99998,  99999],\n",
       "            dtype='int64', name='Row ID', length=56948),\n",
       " 2015: Int64Index([114364, 114365, 114366, 114367, 114368, 114369, 114370, 114372,\n",
       "             114373, 117505,\n",
       "             ...\n",
       "             174080, 174082, 174083, 174084, 174085, 174086, 174089, 174090,\n",
       "             174092, 174093],\n",
       "            dtype='int64', name='Row ID', length=59767),\n",
       " 2016: Int64Index([228450, 228451, 228452, 228453, 228454, 228455, 228456, 228457,\n",
       "             228458, 266359,\n",
       "             ...\n",
       "             285199, 285200, 285201, 285202, 285203, 285204, 285205, 285206,\n",
       "             285207, 285208],\n",
       "            dtype='int64', name='Row ID', length=110914)}"
      ]
     },
     "execution_count": 53,
     "metadata": {},
     "output_type": "execute_result"
    }
   ],
   "source": [
    "Grouped_losAngeles.groups"
   ]
  },
  {
   "cell_type": "code",
   "execution_count": null,
   "metadata": {
    "collapsed": true
   },
   "outputs": [],
   "source": []
  },
  {
   "cell_type": "code",
   "execution_count": null,
   "metadata": {
    "collapsed": true
   },
   "outputs": [],
   "source": []
  },
  {
   "cell_type": "code",
   "execution_count": null,
   "metadata": {
    "collapsed": true
   },
   "outputs": [],
   "source": []
  },
  {
   "cell_type": "code",
   "execution_count": null,
   "metadata": {
    "collapsed": true
   },
   "outputs": [],
   "source": []
  },
  {
   "cell_type": "code",
   "execution_count": null,
   "metadata": {
    "collapsed": true
   },
   "outputs": [],
   "source": []
  },
  {
   "cell_type": "code",
   "execution_count": null,
   "metadata": {
    "collapsed": true
   },
   "outputs": [],
   "source": []
  },
  {
   "cell_type": "code",
   "execution_count": null,
   "metadata": {
    "collapsed": true
   },
   "outputs": [],
   "source": []
  },
  {
   "cell_type": "code",
   "execution_count": null,
   "metadata": {
    "collapsed": true
   },
   "outputs": [],
   "source": []
  }
 ],
 "metadata": {
  "anaconda-cloud": {},
  "kernelspec": {
   "display_name": "Python [conda root]",
   "language": "python",
   "name": "conda-root-py"
  },
  "language_info": {
   "codemirror_mode": {
    "name": "ipython",
    "version": 3
   },
   "file_extension": ".py",
   "mimetype": "text/x-python",
   "name": "python",
   "nbconvert_exporter": "python",
   "pygments_lexer": "ipython3",
   "version": "3.5.2"
  }
 },
 "nbformat": 4,
 "nbformat_minor": 1
}
