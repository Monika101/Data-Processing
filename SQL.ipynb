{
 "cells": [
  {
   "cell_type": "markdown",
   "metadata": {
    "collapsed": true
   },
   "source": [
    "## SQL Queries "
   ]
  },
  {
   "cell_type": "markdown",
   "metadata": {},
   "source": [
    "## Check what is already available under schema; then import data "
   ]
  },
  {
   "cell_type": "code",
   "execution_count": null,
   "metadata": {
    "collapsed": true
   },
   "outputs": [],
   "source": [
    "# Check tables within the schema, after logging on\n",
    "select TABLESPACE_NAME, TABLE_NAME \n",
    "from USER_TABLES;\n",
    "\n",
    "# Check all tables accessible to current user\n",
    "select TABLESPACE_NAME, TABLE_NAME \n",
    "from ALL_TABLES;\n",
    "\n",
    "# Check an individual table\n",
    "desc 'TABLENAME';"
   ]
  },
  {
   "cell_type": "code",
   "execution_count": null,
   "metadata": {
    "collapsed": true
   },
   "outputs": [],
   "source": [
    "### Import the main sheet again but this time only with Country and Region\n",
    "### Create table for Region & Country combined as there is no ID number for Region, therefore no way of linking separate\n",
    "### Country & Region tables"
   ]
  },
  {
   "cell_type": "code",
   "execution_count": null,
   "metadata": {
    "collapsed": true
   },
   "outputs": [],
   "source": [
    "create TABLE Country AS\n",
    "select DISTINCT Country, Region, ISO2, ISO3\n",
    "from(\n",
    "select * \n",
    "from COUNTRYREGION) C;"
   ]
  },
  {
   "cell_type": "code",
   "execution_count": null,
   "metadata": {
    "collapsed": true
   },
   "outputs": [],
   "source": [
    "select count(*), Country\n",
    "from COUNTRY\n",
    "group by COUNTRY;\n",
    "\n",
    "### 206 Countries, no duplicates\n",
    "### Primary Key: ISO2 in Country table, Foreign Key: ISO2 in Main table"
   ]
  },
  {
   "cell_type": "code",
   "execution_count": null,
   "metadata": {
    "collapsed": true
   },
   "outputs": [],
   "source": [
    "alter TABLE Country \n",
    "    modify (CONSTRAINT main_pk PRIMARY KEY (ISO2));  ### Turn existing field into PRIMARY KEY\n",
    "    \n",
    "alter TABLE MAIN \n",
    "  modify ISO2 CONSTRAINT main_fk REFERENCES Country(ISO2);  ### Turn existing field into FOREIGN KEY"
   ]
  },
  {
   "cell_type": "code",
   "execution_count": null,
   "metadata": {
    "collapsed": true
   },
   "outputs": [],
   "source": [
    "create SEQUENCE main_seq START WITH 1; ### Creating sequence to create ID for Main table as auto-incrementing PRIMARY KEY"
   ]
  },
  {
   "cell_type": "code",
   "execution_count": null,
   "metadata": {
    "collapsed": true
   },
   "outputs": [],
   "source": [
    "create TRIGGER IDX                     ### Creating TRIGGER for IDX primary key to auto-increment.\n",
    "    before INSERT on MAIN\n",
    "    for EACH ROW\n",
    "\n",
    "begin\n",
    "  select main_seq.NEXTVAL\n",
    "  into   ID\n",
    "  from   dual;\n",
    "end;\n",
    "/"
   ]
  },
  {
   "cell_type": "markdown",
   "metadata": {},
   "source": [
    "## Now look at existing schema within SQL Developer "
   ]
  },
  {
   "cell_type": "code",
   "execution_count": null,
   "metadata": {
    "collapsed": true
   },
   "outputs": [],
   "source": [
    "### This is just to have a good understanding of what is in the database and what columns the tables\n",
    "### are made of.\n",
    "\n",
    "select TABLESPACE_NAME, TABLE_NAME \n",
    "from USER_TABLES;\n",
    "\n",
    "USERS\tREGIONS\n",
    "USERS\tLOCATIONS\n",
    "USERS\tDEPARTMENTS\n",
    "USERS\tJOBS\n",
    "USERS\tEMPLOYEES\n",
    "USERS\tJOB_HISTORY\n"
   ]
  },
  {
   "cell_type": "code",
   "execution_count": null,
   "metadata": {
    "collapsed": true
   },
   "outputs": [],
   "source": [
    "desc REGIONS;  ### look at the \"Regions\" table\n",
    "\n",
    "Name        Null     Type         \n",
    "----------- -------- ------------ \n",
    "REGION_ID   NOT NULL NUMBER       \n",
    "REGION_NAME          VARCHAR2(25) \n",
    "\n",
    "desc LOCATIONS;   ### look at the \"Locations\" table\n",
    "\n",
    "Name           Null     Type         \n",
    "-------------- -------- ------------ \n",
    "LOCATION_ID    NOT NULL NUMBER(4)    \n",
    "STREET_ADDRESS          VARCHAR2(40) \n",
    "POSTAL_CODE             VARCHAR2(12) \n",
    "CITY           NOT NULL VARCHAR2(30) \n",
    "STATE_PROVINCE          VARCHAR2(25) \n",
    "COUNTRY_ID              CHAR(2) \n",
    "\n",
    "desc DEPARTMENTS;   ### look at the \"Departments\" table\n",
    "\n",
    "Name            Null     Type         \n",
    "--------------- -------- ------------ \n",
    "DEPARTMENT_ID   NOT NULL NUMBER(4)    \n",
    "DEPARTMENT_NAME NOT NULL VARCHAR2(30) \n",
    "MANAGER_ID               NUMBER(6)    \n",
    "LOCATION_ID              NUMBER(4) \n",
    "\n",
    "desc JOBS;         ### look at the \"Jobs\" table\n",
    "\n",
    "Name       Null     Type         \n",
    "---------- -------- ------------ \n",
    "JOB_ID     NOT NULL VARCHAR2(10) \n",
    "JOB_TITLE  NOT NULL VARCHAR2(35) \n",
    "MIN_SALARY          NUMBER(6)    \n",
    "MAX_SALARY          NUMBER(6) \n",
    "\n",
    "desc EMPLOYEES     ### look at the \"Employees\" table\n",
    "\n",
    "Name           Null     Type         \n",
    "-------------- -------- ------------ \n",
    "EMPLOYEE_ID    NOT NULL NUMBER(6)    \n",
    "FIRST_NAME              VARCHAR2(20) \n",
    "LAST_NAME      NOT NULL VARCHAR2(25) \n",
    "EMAIL          NOT NULL VARCHAR2(25) \n",
    "PHONE_NUMBER            VARCHAR2(20) \n",
    "HIRE_DATE      NOT NULL DATE         \n",
    "JOB_ID         NOT NULL VARCHAR2(10) \n",
    "SALARY                  NUMBER(8,2)  \n",
    "COMMISSION_PCT          NUMBER(2,2)  \n",
    "MANAGER_ID              NUMBER(6)    \n",
    "DEPARTMENT_ID           NUMBER(4)\n",
    "\n",
    "desc JOB_HISTORY   ### look at the \"Job History\" table\n",
    "\n",
    "Name          Null     Type         \n",
    "------------- -------- ------------ \n",
    "EMPLOYEE_ID   NOT NULL NUMBER(6)    \n",
    "START_DATE    NOT NULL DATE         \n",
    "END_DATE      NOT NULL DATE         \n",
    "JOB_ID        NOT NULL VARCHAR2(10) \n",
    "DEPARTMENT_ID          NUMBER(4)  \n"
   ]
  },
  {
   "cell_type": "markdown",
   "metadata": {},
   "source": [
    "## Script to find Primary KEY"
   ]
  },
  {
   "cell_type": "code",
   "execution_count": null,
   "metadata": {
    "collapsed": true
   },
   "outputs": [],
   "source": [
    "set verify off\n",
    "accept TABLE_NAME char prompt 'Table name>'\n",
    "\n",
    "select COLS.COLUMN_NAME\n",
    "from ALL_CONSTRAINTS as CONS \n",
    "NATURAL JOIN\n",
    "ALL_CONS_COLUMNS as COLS\n",
    "WHERE cons.constraint_type = 'P' AND table_name = UPPER('&TABLE_NAME');\n",
    "\n",
    "EMPLOYEES table:\n",
    "--- \"EMPLOYEE_ID\" \n",
    "JOBS table:\n",
    "--- \"JOB_ID\"\n",
    "REGIONS table:\n",
    "--- \"REGION_ID\"\n",
    "LOCATIONS table:\n",
    "--- \"LOCATION_ID\"\n",
    "DEPARTMENTS table:\n",
    "--- \"DEPARTMENT_ID\"\n",
    "JOB_HISTORY table:\n",
    "--- \"EMPLOYEE_ID\"  \n",
    "--- \"START_DATE\"\n",
    "--- ## Used SQL Developer to check primary key / foreign key relationship for this table:\n",
    "    --- ## Primary Key is in fact complex key \"EMPLOYEED_ID & START_DATE\"\n",
    "    --- ## Foreign Key is \"EMPLOYEE_ID\".\n"
   ]
  },
  {
   "cell_type": "markdown",
   "metadata": {
    "collapsed": true
   },
   "source": [
    "### Demonstrate INNER join and subquery example\n",
    "### \"Show all employees that are Managers\""
   ]
  },
  {
   "cell_type": "code",
   "execution_count": null,
   "metadata": {
    "collapsed": true
   },
   "outputs": [],
   "source": [
    "select FIRST_NAME||' '||LAST_NAME as FullName, JOBS.JOB_TITLE\n",
    "from (select * \n",
    "from EMPLOYEES\n",
    "where MANAGER_ID is not null)\n",
    "EMP\n",
    "inner join\n",
    "JOBS\n",
    "on EMP.JOB_ID = JOBS.JOB_ID;"
   ]
  },
  {
   "cell_type": "markdown",
   "metadata": {
    "collapsed": true
   },
   "source": [
    "## Now look at SQL Oracle Objects in general"
   ]
  },
  {
   "cell_type": "code",
   "execution_count": null,
   "metadata": {
    "collapsed": true
   },
   "outputs": [],
   "source": [
    "### List of objects:\n",
    "### table, view, synonym, index, package, package body, sequence, type body, function, procedure, trigger, type\n",
    "### library, materialised view, materialised view log, database link"
   ]
  },
  {
   "cell_type": "markdown",
   "metadata": {},
   "source": [
    "### Synonym: generally use them when granting access to an object from another schema and don't want to worry\n",
    "### about owner of object."
   ]
  },
  {
   "cell_type": "code",
   "execution_count": null,
   "metadata": {
    "collapsed": true
   },
   "outputs": [],
   "source": [
    "create PUBLIC synonym EMPLOYEES\n",
    "for HR_Oracle.EMPLOYEES;\n",
    "\n",
    "# Create, replace, drop"
   ]
  },
  {
   "cell_type": "markdown",
   "metadata": {},
   "source": [
    "### Index: allows faster retrieval of records. Generally good practice to use an index on larger tables, can make a \n",
    "### big difference to performance."
   ]
  },
  {
   "cell_type": "code",
   "execution_count": null,
   "metadata": {
    "collapsed": true
   },
   "outputs": [],
   "source": [
    "create index EMPLOYEES_IX\n",
    "    on EMPLOYEES(SALARY)  ### NOT an ideal type to index, \"EMPLOYEE_ID\", \"JOB_ID\", \"DEPARTMENT_ID\", \"MANAGER_ID\" would\n",
    "    COMPUTE STATISTICS;   ### be all better but they are already either PRIMARY or FOREIGN KEYS\n",
    "                          ### Collect statistics.\n",
    "\n",
    "# Can't index columns that are PRIMARY or FOREIGN KEYS already."
   ]
  },
  {
   "cell_type": "markdown",
   "metadata": {},
   "source": [
    "### Sequence: to create autonumbers (often ideal for PRIMARY keys)"
   ]
  },
  {
   "cell_type": "code",
   "execution_count": null,
   "metadata": {
    "collapsed": true
   },
   "outputs": [],
   "source": [
    "create sequence EMPLOYEE_SEQ\n",
    "  MINVALUE 1\n",
    "  MAXVALUE 1000000\n",
    "  START WITH 1\n",
    "  INCREMENT BY 1\n",
    "  CACHE 20;                ### The number looking to cache at a particular time.\n",
    "    \n",
    "EMPOLYEE_SEQ.nextval;     ### This is used to retrieve a particular value using a sequence. An example of its usefulness \n",
    "                          ### is when looking to insert records"
   ]
  },
  {
   "cell_type": "markdown",
   "metadata": {},
   "source": [
    "### Procedure: uses comparison operator 'LIKE' to search for pattern in text"
   ]
  },
  {
   "cell_type": "code",
   "execution_count": null,
   "metadata": {
    "collapsed": true
   },
   "outputs": [],
   "source": [
    "declare                    \n",
    "procedure\n",
    "  compare (value VARCHAR2, pattern VARCHAR2) is\n",
    "  begin \n",
    "  \n",
    "    if value LIKE pattern\n",
    "      then\n",
    "      dbms_output.put_line('FOUND IT!');\n",
    "    \n",
    "    else\n",
    "      dbms_output.put_line('keep searching');\n",
    "    \n",
    "    end if;\n",
    "  \n",
    "  end;   \n",
    "  \n",
    "  begin\n",
    "  \n",
    "    compare('Taylor Smith', 'T% S%');         ### compares 'Taylor Smith' to pattern 'T' 'S' (valid)\n",
    "    compare('Margaret Smith', 'T% S%');       ### compares 'Margaret Smith' to pattern 'T' 'S' (invalid)\n",
    "  \n",
    "  end;\n",
    "    \n",
    "/\n",
    "\n",
    "********************\n",
    "PL/SQL procedure successfully completed.\n",
    "\n",
    "FOUND IT!\n",
    "keep searching\n",
    "********************"
   ]
  },
  {
   "cell_type": "markdown",
   "metadata": {},
   "source": [
    "### Function: this is an example of locating the Empolyee Number for a particular Employee"
   ]
  },
  {
   "cell_type": "code",
   "execution_count": null,
   "metadata": {
    "collapsed": true
   },
   "outputs": [],
   "source": [
    "### *** UNFINISHED ***\n",
    "\n",
    "create FUNCTION FindEmployee\n",
    "   (name_in IN VARCHAR2)\n",
    "   return number\n",
    "IS\n",
    "   number;\n",
    "\n",
    "   cursor E1 is\n",
    "   select EMPLOYEE_ID\n",
    "     from EMPLOYEES\n",
    "     where LAST_NAME = name_in;\n",
    "\n",
    "begin\n",
    "\n",
    "   open E1;\n",
    "   fetch E1 into EMPnumber;\n",
    "\n",
    "   if E1%notfound then\n",
    "      EMPnumber := 9999999;\n",
    "   end if;\n",
    "\n",
    "   close E1;\n",
    "\n",
    "return EMPnumber;\n",
    "\n",
    "exception\n",
    "when OTHERS then\n",
    "   raise_application_error(-20001,'An error was encountered - '||SQLCODE||' -ERROR- '||SQLERRM);\n",
    "end;\n",
    "/"
   ]
  },
  {
   "cell_type": "code",
   "execution_count": null,
   "metadata": {
    "collapsed": true
   },
   "outputs": [],
   "source": [
    "### Drop Function (or any other object, of course)\n",
    "\n",
    "DROP FUNCTION FindEmployee;"
   ]
  },
  {
   "cell_type": "code",
   "execution_count": null,
   "metadata": {
    "collapsed": true
   },
   "outputs": [],
   "source": [
    "### Make sure output is printed \n",
    "\n",
    "SET SERVEROUTPUT ON;"
   ]
  },
  {
   "cell_type": "markdown",
   "metadata": {
    "collapsed": true
   },
   "source": [
    "### Using Condition, a simple IF statement for updating a table"
   ]
  },
  {
   "cell_type": "code",
   "execution_count": null,
   "metadata": {
    "collapsed": true
   },
   "outputs": [],
   "source": [
    "### Updating the EMPLOYEES table with salary for employee number 100\n",
    "\n",
    "declare\n",
    "  E_ID EMPLOYEES.EMPLOYEE_ID%TYPE := 100;  ### will update this record if condition is True.\n",
    "  E_SAL EMPLOYEES.SALARY%TYPE;             ### %TYPE is to make sure column has same type as original table\n",
    "  \n",
    "begin\n",
    "  select SALARY\n",
    "  into E_SAL\n",
    "  from EMPLOYEES\n",
    "  where EMPLOYEE_ID = E_ID;\n",
    "  \n",
    "    if (E_SAL < 30000) then                ### if salary is less than 30,000 then EMPLOYEES table is updated\n",
    "      update EMPLOYEES\n",
    "      \n",
    "      set SALARY = SALARY + 10000\n",
    "        where\n",
    "        EMPLOYEE_ID = E_ID;\n",
    "        \n",
    "        dbms_output.put_line('Salary Updated');\n",
    "        \n",
    "     end if;\n",
    "    \n",
    "end;\n",
    "/"
   ]
  },
  {
   "cell_type": "markdown",
   "metadata": {},
   "source": [
    "### Using \"CASE\" for a simple salary band comparison"
   ]
  },
  {
   "cell_type": "code",
   "execution_count": null,
   "metadata": {
    "collapsed": true
   },
   "outputs": [],
   "source": [
    "declare\n",
    "\n",
    "  E_ID EMPLOYEES.EMPLOYEE_ID%TYPE := 100;\n",
    "  E_SAL EMPLOYEES.SALARY%TYPE;\n",
    "  \n",
    "  begin\n",
    "  \n",
    "    select SALARY\n",
    "    into E_SAL\n",
    "    from EMPLOYEES\n",
    "    where EMPLOYEE_ID = E_ID;\n",
    "    \n",
    "    case\n",
    "    \n",
    "      when E_SAL < 10000 then dbms_output.put_line('too low ' || E_SAL);\n",
    "      when E_SAL >= 10000 and E_SAL < 30000 then dbms_output.put_line('average '|| E_SAL);\n",
    "      when E_SAL >= 30000 then dbms_output.put_line('good '|| E_SAL);\n",
    "      \n",
    "    else\n",
    "      dbms_output.put_line('off scale '|| E_SAL);\n",
    "      \n",
    "    end case;\n",
    "    \n",
    "  end;\n",
    "  \n",
    "/"
   ]
  },
  {
   "cell_type": "markdown",
   "metadata": {
    "collapsed": true
   },
   "source": [
    "### A very simple loop with 'exit' instead of using IF/ESIF/ELSE statements."
   ]
  },
  {
   "cell_type": "code",
   "execution_count": null,
   "metadata": {
    "collapsed": true
   },
   "outputs": [],
   "source": [
    "declare\n",
    "\n",
    "  x number := 10;\n",
    "  \n",
    "  begin\n",
    "    loop\n",
    "      dbms_output.put_line(x);\n",
    "      \n",
    "      x := x + 5;\n",
    "      \n",
    "      exit when x > 50;\n",
    "    end loop;\n",
    "  end;\n",
    "/"
   ]
  },
  {
   "cell_type": "markdown",
   "metadata": {},
   "source": [
    "### Same result as above with a 'while' loop"
   ]
  },
  {
   "cell_type": "code",
   "execution_count": null,
   "metadata": {
    "collapsed": true
   },
   "outputs": [],
   "source": [
    "declare\n",
    "\n",
    "  x number := 10;\n",
    "  \n",
    "  begin\n",
    "    while x <= 50 loop\n",
    "    \n",
    "      dbms_output.put_line(x);\n",
    "        \n",
    "      x := x + 5;\n",
    "    end loop;\n",
    "  end;\n",
    "/"
   ]
  },
  {
   "cell_type": "markdown",
   "metadata": {
    "collapsed": true
   },
   "source": [
    "### For loop - simple, just showing reverse order and keyword positionining"
   ]
  },
  {
   "cell_type": "code",
   "execution_count": null,
   "metadata": {
    "collapsed": true
   },
   "outputs": [],
   "source": [
    "declare\n",
    "  a number (2);\n",
    "  begin\n",
    "  for a in 10 .. 20 loop\n",
    "  \n",
    "    dbms_output.put_line('looping: '||a);\n",
    "    \n",
    "  end loop;\n",
    "end;\n",
    "/\n",
    "\n",
    "declare\n",
    "  a number (2);\n",
    "  begin\n",
    "  for a in reverse 10 .. 20 loop      ##### this is where counting within loop is reversed\n",
    "  \n",
    "    dbms_output.put_line('looping: '||a);\n",
    "    \n",
    "  end loop;\n",
    "end;\n",
    "/\n"
   ]
  },
  {
   "cell_type": "code",
   "execution_count": null,
   "metadata": {
    "collapsed": true
   },
   "outputs": [],
   "source": []
  },
  {
   "cell_type": "code",
   "execution_count": null,
   "metadata": {
    "collapsed": true
   },
   "outputs": [],
   "source": []
  },
  {
   "cell_type": "code",
   "execution_count": null,
   "metadata": {
    "collapsed": true
   },
   "outputs": [],
   "source": []
  }
 ],
 "metadata": {
  "kernelspec": {
   "display_name": "Python 3",
   "language": "python",
   "name": "python3"
  },
  "language_info": {
   "codemirror_mode": {
    "name": "ipython",
    "version": 3
   },
   "file_extension": ".py",
   "mimetype": "text/x-python",
   "name": "python",
   "nbconvert_exporter": "python",
   "pygments_lexer": "ipython3",
   "version": "3.6.0"
  }
 },
 "nbformat": 4,
 "nbformat_minor": 2
}
