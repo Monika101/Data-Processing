{
 "cells": [
  {
   "cell_type": "markdown",
   "metadata": {
    "collapsed": true
   },
   "source": [
    "## Take a look at the data in Python before importing it to SQL"
   ]
  },
  {
   "cell_type": "code",
   "execution_count": null,
   "metadata": {
    "collapsed": true
   },
   "outputs": [],
   "source": [
    "### Import the excel file itself but then specifically parse one of the sheets (here \"Data - June 2016\")\n",
    "### Use pandas and NumPy libraries"
   ]
  },
  {
   "cell_type": "code",
   "execution_count": 1,
   "metadata": {
    "collapsed": false
   },
   "outputs": [],
   "source": [
    "import pandas as pd\n",
    "xls_file = pd.ExcelFile('C:/Users/Monika/Documents/SQL/GlobalFinancialDevelopmentDatabaseJune2016.xlsx')\n",
    "df = xls_file.parse('Data - June 2016')"
   ]
  },
  {
   "cell_type": "code",
   "execution_count": null,
   "metadata": {
    "collapsed": true
   },
   "outputs": [],
   "source": [
    "### Take a look at the first few lines to get an idea how SQL tables should be structured"
   ]
  },
  {
   "cell_type": "code",
   "execution_count": 2,
   "metadata": {
    "collapsed": false
   },
   "outputs": [
    {
     "data": {
      "text/html": [
       "<div>\n",
       "<table border=\"1\" class=\"dataframe\">\n",
       "  <thead>\n",
       "    <tr style=\"text-align: right;\">\n",
       "      <th></th>\n",
       "      <th>ISO3</th>\n",
       "      <th>ISO2</th>\n",
       "      <th>IMF code</th>\n",
       "      <th>Country</th>\n",
       "      <th>Region</th>\n",
       "      <th>Income Group</th>\n",
       "      <th>Year</th>\n",
       "      <th>GFDD.AI.01</th>\n",
       "      <th>GFDD.AI.02</th>\n",
       "      <th>GFDD.AI.03</th>\n",
       "      <th>...</th>\n",
       "      <th>GFDD.OI.18</th>\n",
       "      <th>GFDD.OI.19</th>\n",
       "      <th>GFDD.OM.01</th>\n",
       "      <th>GFDD.OM.02</th>\n",
       "      <th>GFDD.OE.01</th>\n",
       "      <th>GFDD.OE.02</th>\n",
       "      <th>NY.GDP.MKTP.CD</th>\n",
       "      <th>NY.GDP.PCAP.KD</th>\n",
       "      <th>NY.GNP.MKTP.CD</th>\n",
       "      <th>SP.POP.TOTL</th>\n",
       "    </tr>\n",
       "  </thead>\n",
       "  <tbody>\n",
       "    <tr>\n",
       "      <th>0</th>\n",
       "      <td>AFG</td>\n",
       "      <td>AF</td>\n",
       "      <td>512.0</td>\n",
       "      <td>Afghanistan</td>\n",
       "      <td>South Asia</td>\n",
       "      <td>Low income</td>\n",
       "      <td>1960</td>\n",
       "      <td>NaN</td>\n",
       "      <td>NaN</td>\n",
       "      <td>NaN</td>\n",
       "      <td>...</td>\n",
       "      <td>NaN</td>\n",
       "      <td>0.0</td>\n",
       "      <td>NaN</td>\n",
       "      <td>NaN</td>\n",
       "      <td>NaN</td>\n",
       "      <td>NaN</td>\n",
       "      <td>540000000.0</td>\n",
       "      <td>NaN</td>\n",
       "      <td>550000000.0</td>\n",
       "      <td>9000000.0</td>\n",
       "    </tr>\n",
       "    <tr>\n",
       "      <th>1</th>\n",
       "      <td>AFG</td>\n",
       "      <td>AF</td>\n",
       "      <td>512.0</td>\n",
       "      <td>Afghanistan</td>\n",
       "      <td>South Asia</td>\n",
       "      <td>Low income</td>\n",
       "      <td>1961</td>\n",
       "      <td>NaN</td>\n",
       "      <td>NaN</td>\n",
       "      <td>NaN</td>\n",
       "      <td>...</td>\n",
       "      <td>NaN</td>\n",
       "      <td>0.0</td>\n",
       "      <td>NaN</td>\n",
       "      <td>NaN</td>\n",
       "      <td>NaN</td>\n",
       "      <td>NaN</td>\n",
       "      <td>550000000.0</td>\n",
       "      <td>NaN</td>\n",
       "      <td>560000000.0</td>\n",
       "      <td>9200000.0</td>\n",
       "    </tr>\n",
       "    <tr>\n",
       "      <th>2</th>\n",
       "      <td>AFG</td>\n",
       "      <td>AF</td>\n",
       "      <td>512.0</td>\n",
       "      <td>Afghanistan</td>\n",
       "      <td>South Asia</td>\n",
       "      <td>Low income</td>\n",
       "      <td>1962</td>\n",
       "      <td>NaN</td>\n",
       "      <td>NaN</td>\n",
       "      <td>NaN</td>\n",
       "      <td>...</td>\n",
       "      <td>NaN</td>\n",
       "      <td>0.0</td>\n",
       "      <td>NaN</td>\n",
       "      <td>NaN</td>\n",
       "      <td>NaN</td>\n",
       "      <td>NaN</td>\n",
       "      <td>550000000.0</td>\n",
       "      <td>NaN</td>\n",
       "      <td>560000000.0</td>\n",
       "      <td>9300000.0</td>\n",
       "    </tr>\n",
       "    <tr>\n",
       "      <th>3</th>\n",
       "      <td>AFG</td>\n",
       "      <td>AF</td>\n",
       "      <td>512.0</td>\n",
       "      <td>Afghanistan</td>\n",
       "      <td>South Asia</td>\n",
       "      <td>Low income</td>\n",
       "      <td>1963</td>\n",
       "      <td>NaN</td>\n",
       "      <td>NaN</td>\n",
       "      <td>NaN</td>\n",
       "      <td>...</td>\n",
       "      <td>NaN</td>\n",
       "      <td>0.0</td>\n",
       "      <td>NaN</td>\n",
       "      <td>NaN</td>\n",
       "      <td>NaN</td>\n",
       "      <td>NaN</td>\n",
       "      <td>750000000.0</td>\n",
       "      <td>NaN</td>\n",
       "      <td>770000000.0</td>\n",
       "      <td>9500000.0</td>\n",
       "    </tr>\n",
       "    <tr>\n",
       "      <th>4</th>\n",
       "      <td>AFG</td>\n",
       "      <td>AF</td>\n",
       "      <td>512.0</td>\n",
       "      <td>Afghanistan</td>\n",
       "      <td>South Asia</td>\n",
       "      <td>Low income</td>\n",
       "      <td>1964</td>\n",
       "      <td>NaN</td>\n",
       "      <td>NaN</td>\n",
       "      <td>NaN</td>\n",
       "      <td>...</td>\n",
       "      <td>NaN</td>\n",
       "      <td>0.0</td>\n",
       "      <td>NaN</td>\n",
       "      <td>NaN</td>\n",
       "      <td>NaN</td>\n",
       "      <td>NaN</td>\n",
       "      <td>800000000.0</td>\n",
       "      <td>NaN</td>\n",
       "      <td>820000000.0</td>\n",
       "      <td>9700000.0</td>\n",
       "    </tr>\n",
       "  </tbody>\n",
       "</table>\n",
       "<p>5 rows × 122 columns</p>\n",
       "</div>"
      ],
      "text/plain": [
       "  ISO3 ISO2  IMF code      Country      Region Income Group  Year  GFDD.AI.01  \\\n",
       "0  AFG   AF     512.0  Afghanistan  South Asia   Low income  1960         NaN   \n",
       "1  AFG   AF     512.0  Afghanistan  South Asia   Low income  1961         NaN   \n",
       "2  AFG   AF     512.0  Afghanistan  South Asia   Low income  1962         NaN   \n",
       "3  AFG   AF     512.0  Afghanistan  South Asia   Low income  1963         NaN   \n",
       "4  AFG   AF     512.0  Afghanistan  South Asia   Low income  1964         NaN   \n",
       "\n",
       "   GFDD.AI.02  GFDD.AI.03     ...       GFDD.OI.18  GFDD.OI.19  GFDD.OM.01  \\\n",
       "0         NaN         NaN     ...              NaN         0.0         NaN   \n",
       "1         NaN         NaN     ...              NaN         0.0         NaN   \n",
       "2         NaN         NaN     ...              NaN         0.0         NaN   \n",
       "3         NaN         NaN     ...              NaN         0.0         NaN   \n",
       "4         NaN         NaN     ...              NaN         0.0         NaN   \n",
       "\n",
       "   GFDD.OM.02  GFDD.OE.01  GFDD.OE.02  NY.GDP.MKTP.CD  NY.GDP.PCAP.KD  \\\n",
       "0         NaN         NaN         NaN     540000000.0             NaN   \n",
       "1         NaN         NaN         NaN     550000000.0             NaN   \n",
       "2         NaN         NaN         NaN     550000000.0             NaN   \n",
       "3         NaN         NaN         NaN     750000000.0             NaN   \n",
       "4         NaN         NaN         NaN     800000000.0             NaN   \n",
       "\n",
       "   NY.GNP.MKTP.CD  SP.POP.TOTL  \n",
       "0     550000000.0    9000000.0  \n",
       "1     560000000.0    9200000.0  \n",
       "2     560000000.0    9300000.0  \n",
       "3     770000000.0    9500000.0  \n",
       "4     820000000.0    9700000.0  \n",
       "\n",
       "[5 rows x 122 columns]"
      ]
     },
     "execution_count": 2,
     "metadata": {},
     "output_type": "execute_result"
    }
   ],
   "source": [
    "df.head()"
   ]
  },
  {
   "cell_type": "code",
   "execution_count": null,
   "metadata": {
    "collapsed": true
   },
   "outputs": [],
   "source": [
    "### Take a look at unique values in some of the columns"
   ]
  },
  {
   "cell_type": "code",
   "execution_count": 3,
   "metadata": {
    "collapsed": false,
    "scrolled": true
   },
   "outputs": [
    {
     "data": {
      "text/plain": [
       "array(['Afghanistan', 'Albania', 'Algeria', 'Andorra', 'Angola',\n",
       "       'Antigua and Barbuda', 'Argentina', 'Armenia', 'Aruba', 'Australia',\n",
       "       'Austria', 'Azerbaijan', 'Bahamas, The', 'Bahrain', 'Bangladesh',\n",
       "       'Barbados', 'Belarus', 'Belgium', 'Belize', 'Benin', 'Bermuda',\n",
       "       'Bhutan', 'Bolivia', 'Bosnia and Herzegovina', 'Botswana', 'Brazil',\n",
       "       'Brunei Darussalam', 'Bulgaria', 'Burkina Faso', 'Burundi',\n",
       "       'Cabo Verde', 'Cambodia', 'Cameroon', 'Canada', 'Cayman Islands',\n",
       "       'Central African Republic', 'Chad', 'Chile', 'China', 'Colombia',\n",
       "       'Comoros', 'Congo, Dem. Rep.', 'Congo, Rep.', 'Costa Rica',\n",
       "       'Croatia', 'Cuba', 'Curaçao', 'Cyprus', 'Czech Republic',\n",
       "       \"Côte d'Ivoire\", 'Denmark', 'Djibouti', 'Dominica',\n",
       "       'Dominican Republic', 'Ecuador', 'Egypt, Arab Rep.', 'El Salvador',\n",
       "       'Equatorial Guinea', 'Eritrea', 'Estonia', 'Ethiopia',\n",
       "       'Faeroe Islands', 'Fiji', 'Finland', 'France', 'French Polynesia',\n",
       "       'Gabon', 'Gambia, The', 'Georgia', 'Germany', 'Ghana', 'Greece',\n",
       "       'Grenada', 'Guatemala', 'Guinea', 'Guinea-Bissau', 'Guyana',\n",
       "       'Haiti', 'Honduras', 'Hong Kong SAR, China', 'Hungary', 'Iceland',\n",
       "       'India', 'Indonesia', 'Iran, Islamic Rep.', 'Iraq', 'Ireland',\n",
       "       'Isle of Man', 'Israel', 'Italy', 'Jamaica', 'Japan', 'Jordan',\n",
       "       'Kazakhstan', 'Kenya', 'Kiribati', 'Korea, Dem. Rep.',\n",
       "       'Korea, Rep.', 'Kosovo', 'Kuwait', 'Kyrgyz Republic', 'Lao PDR',\n",
       "       'Latvia', 'Lebanon', 'Lesotho', 'Liberia', 'Libya', 'Liechtenstein',\n",
       "       'Lithuania', 'Luxembourg', 'Macao SAR, China', 'Macedonia, FYR',\n",
       "       'Madagascar', 'Malawi', 'Malaysia', 'Maldives', 'Mali', 'Malta',\n",
       "       'Marshall Islands', 'Mauritania', 'Mauritius', 'Mexico',\n",
       "       'Micronesia, Fed. Sts.', 'Moldova', 'Monaco', 'Mongolia',\n",
       "       'Montenegro', 'Morocco', 'Mozambique', 'Myanmar', 'Namibia',\n",
       "       'Nepal', 'Netherlands', 'New Caledonia', 'New Zealand', 'Nicaragua',\n",
       "       'Niger', 'Nigeria', 'Norway', 'Oman', 'Pakistan', 'Palau', 'Panama',\n",
       "       'Papua New Guinea', 'Paraguay', 'Peru', 'Philippines', 'Poland',\n",
       "       'Portugal', 'Puerto Rico', 'Qatar', 'Romania', 'Russian Federation',\n",
       "       'Rwanda', 'Samoa', 'San Marino', 'Saudi Arabia', 'Senegal',\n",
       "       'Serbia', 'Seychelles', 'Sierra Leone', 'Singapore',\n",
       "       'Slovak Republic', 'Slovenia', 'Solomon Islands', 'Somalia',\n",
       "       'South Africa', 'South Sudan', 'Spain', 'Sri Lanka',\n",
       "       'St. Kitts and Nevis', 'St. Lucia',\n",
       "       'St. Vincent and the Grenadines', 'Sudan', 'Suriname', 'Swaziland',\n",
       "       'Sweden', 'Switzerland', 'Syrian Arab Republic',\n",
       "       'São Tomé and Principe', 'Taiwan, China', 'Tajikistan', 'Tanzania',\n",
       "       'Thailand', 'Timor-Leste', 'Togo', 'Tonga', 'Trinidad and Tobago',\n",
       "       'Tunisia', 'Turkey', 'Turkmenistan', 'Tuvalu', 'Uganda', 'Ukraine',\n",
       "       'United Arab Emirates', 'United Kingdom', 'United States',\n",
       "       'Uruguay', 'Uzbekistan', 'Vanuatu', 'Venezuela, RB', 'Vietnam',\n",
       "       'West Bank and Gaza', 'Yemen, Rep.', 'Zambia', 'Zimbabwe'], dtype=object)"
      ]
     },
     "execution_count": 3,
     "metadata": {},
     "output_type": "execute_result"
    }
   ],
   "source": [
    "df['Country'].unique()"
   ]
  },
  {
   "cell_type": "code",
   "execution_count": null,
   "metadata": {
    "collapsed": true
   },
   "outputs": [],
   "source": [
    "### What columns are there?"
   ]
  },
  {
   "cell_type": "code",
   "execution_count": 4,
   "metadata": {
    "collapsed": false
   },
   "outputs": [
    {
     "name": "stdout",
     "output_type": "stream",
     "text": [
      "['ISO3', 'ISO2', 'IMF code', 'Country', 'Region', 'Income Group', 'Year', 'GFDD.AI.01', 'GFDD.AI.02', 'GFDD.AI.03', 'GFDD.AI.04', 'GFDD.AI.05', 'GFDD.AI.06', 'GFDD.AI.07', 'GFDD.AI.08', 'GFDD.AI.09', 'GFDD.AI.10', 'GFDD.AI.11', 'GFDD.AI.12', 'GFDD.AI.13', 'GFDD.AI.14', 'GFDD.AI.15', 'GFDD.AI.16', 'GFDD.AI.17', 'GFDD.AI.18', 'GFDD.AI.19', 'GFDD.AI.20', 'GFDD.AI.21', 'GFDD.AI.22', 'GFDD.AI.23', 'GFDD.AI.24', 'GFDD.AI.25', 'GFDD.AI.26', 'GFDD.AI.27', 'GFDD.AI.28', 'GFDD.AI.29', 'GFDD.AI.30', 'GFDD.AI.31', 'GFDD.AI.32', 'GFDD.AI.33', 'GFDD.AI.34', 'GFDD.AI.35', 'GFDD.AI.36', 'GFDD.AM.01', 'GFDD.AM.02', 'GFDD.AM.03', 'GFDD.AM.04', 'GFDD.DI.01', 'GFDD.DI.02', 'GFDD.DI.03', 'GFDD.DI.04', 'GFDD.DI.05', 'GFDD.DI.06', 'GFDD.DI.07', 'GFDD.DI.08', 'GFDD.DI.09', 'GFDD.DI.10', 'GFDD.DI.11', 'GFDD.DI.12', 'GFDD.DI.13', 'GFDD.DI.14', 'GFDD.DM.01', 'GFDD.DM.02', 'GFDD.DM.03', 'GFDD.DM.04', 'GFDD.DM.05', 'GFDD.DM.06', 'GFDD.DM.07', 'GFDD.DM.08', 'GFDD.DM.09', 'GFDD.DM.10', 'GFDD.DM.11', 'GFDD.DM.12', 'GFDD.DM.13', 'GFDD.DM.14', 'GFDD.DM.15', 'GFDD.EI.01', 'GFDD.EI.02', 'GFDD.EI.03', 'GFDD.EI.04', 'GFDD.EI.05', 'GFDD.EI.06', 'GFDD.EI.07', 'GFDD.EI.08', 'GFDD.EI.09', 'GFDD.EI.10', 'GFDD.EM.01', 'GFDD.SI.01', 'GFDD.SI.02', 'GFDD.SI.03', 'GFDD.SI.04', 'GFDD.SI.05', 'GFDD.SI.06', 'GFDD.SI.07', 'GFDD.SM.01', 'GFDD.OI.01', 'GFDD.OI.02', 'GFDD.OI.03', 'GFDD.OI.04', 'GFDD.OI.05', 'GFDD.OI.06', 'GFDD.OI.07', 'GFDD.OI.08', 'GFDD.OI.09', 'GFDD.OI.10', 'GFDD.OI.11', 'GFDD.OI.12', 'GFDD.OI.13', 'GFDD.OI.14', 'GFDD.OI.15', 'GFDD.OI.16', 'GFDD.OI.17', 'GFDD.OI.18', 'GFDD.OI.19', 'GFDD.OM.01', 'GFDD.OM.02', 'GFDD.OE.01', 'GFDD.OE.02', 'NY.GDP.MKTP.CD', 'NY.GDP.PCAP.KD', 'NY.GNP.MKTP.CD', 'SP.POP.TOTL']\n"
     ]
    }
   ],
   "source": [
    "cols = list(df.columns)\n",
    "print (cols)"
   ]
  },
  {
   "cell_type": "code",
   "execution_count": 5,
   "metadata": {
    "collapsed": false,
    "scrolled": true
   },
   "outputs": [
    {
     "data": {
      "text/plain": [
       "array([ 512.,  914.,  612.,   nan,  614.,  311.,  213.,  911.,  314.,\n",
       "        193.,  122.,  912.,  313.,  419.,  513.,  316.,  913.,  124.,\n",
       "        339.,  638.,  319.,  514.,  218.,  963.,  616.,  223.,  516.,\n",
       "        918.,  748.,  618.,  624.,  522.,  622.,  156.,  377.,  626.,\n",
       "        628.,  228.,  924.,  233.,  632.,  636.,  634.,  238.,  960.,\n",
       "        928.,  354.,  423.,  935.,  662.,  128.,  611.,  321.,  243.,\n",
       "        248.,  469.,  253.,  642.,  643.,  939.,  644.,  816.,  819.,\n",
       "        172.,  132.,  887.,  646.,  648.,  915.,  134.,  652.,  174.,\n",
       "        328.,  258.,  656.,  654.,  336.,  263.,  268.,  532.,  944.,\n",
       "        176.,  534.,  536.,  429.,  433.,  178.,  436.,  136.,  343.,\n",
       "        158.,  439.,  916.,  664.,  826.,  542.,  967.,  443.,  917.,\n",
       "        544.,  941.,  446.,  666.,  668.,  672.,  946.,  137.,  546.,\n",
       "        962.,  674.,  676.,  548.,  556.,  678.,  181.,  867.,  682.,\n",
       "        684.,  273.,  868.,  921.,  948.,  943.,  686.,  688.,  518.,\n",
       "        728.,  558.,  138.,  839.,  196.,  278.,  692.,  694.,  142.,\n",
       "        449.,  564.,  565.,  283.,  853.,  288.,  293.,  566.,  964.,\n",
       "        182.,  359.,  453.,  968.,  922.,  714.,  862.,  135.,  456.,\n",
       "        722.,  942.,  718.,  724.,  576.,  936.,  961.,  813.,  726.,\n",
       "        199.,  733.,  184.,  524.,  361.,  362.,  364.,  732.,  366.,\n",
       "        734.,  144.,  146.,  463.,  716.,  528.,  923.,  738.,  578.,\n",
       "        537.,  742.,  866.,  369.,  744.,  186.,  925.,  869.,  746.,\n",
       "        926.,  466.,  112.,  111.,  298.,  927.,  846.,  299.,  582.,\n",
       "        487.,  474.,  754.,  698.])"
      ]
     },
     "execution_count": 5,
     "metadata": {},
     "output_type": "execute_result"
    }
   ],
   "source": [
    "df['IMF code'].unique() ### as there are 'NaN' in this column, I will not use its values"
   ]
  },
  {
   "cell_type": "code",
   "execution_count": 6,
   "metadata": {
    "collapsed": false
   },
   "outputs": [
    {
     "data": {
      "text/plain": [
       "array(['Andorra', 'Isle of Man', 'Korea, Dem. Rep.', 'Liechtenstein',\n",
       "       'Monaco'], dtype=object)"
      ]
     },
     "execution_count": 6,
     "metadata": {},
     "output_type": "execute_result"
    }
   ],
   "source": [
    "import numpy as np\n",
    "nan_ = df[df['IMF code'].apply(np.isnan)]   ### Checking which Countries don't have IMF code.\n",
    "nan_['Country'].unique()"
   ]
  },
  {
   "cell_type": "code",
   "execution_count": 7,
   "metadata": {
    "collapsed": false,
    "scrolled": true
   },
   "outputs": [
    {
     "data": {
      "text/plain": [
       "array(['AFG', 'ALB', 'DZA', 'ADO', 'AGO', 'ATG', 'ARG', 'ARM', 'ABW',\n",
       "       'AUS', 'AUT', 'AZE', 'BHS', 'BHR', 'BGD', 'BRB', 'BLR', 'BEL',\n",
       "       'BLZ', 'BEN', 'BMU', 'BTN', 'BOL', 'BIH', 'BWA', 'BRA', 'BRN',\n",
       "       'BGR', 'BFA', 'BDI', 'CPV', 'KHM', 'CMR', 'CAN', 'CYM', 'CAF',\n",
       "       'TCD', 'CHL', 'CHN', 'COL', 'COM', 'ZAR', 'COG', 'CRI', 'HRV',\n",
       "       'CUB', 'CUW', 'CYP', 'CZE', 'CIV', 'DNK', 'DJI', 'DMA', 'DOM',\n",
       "       'ECU', 'EGY', 'SLV', 'GNQ', 'ERI', 'EST', 'ETH', 'FRO', 'FJI',\n",
       "       'FIN', 'FRA', 'PYF', 'GAB', 'GMB', 'GEO', 'DEU', 'GHA', 'GRC',\n",
       "       'GRD', 'GTM', 'GIN', 'GNB', 'GUY', 'HTI', 'HND', 'HKG', 'HUN',\n",
       "       'ISL', 'IND', 'IDN', 'IRN', 'IRQ', 'IRL', 'IMY', 'ISR', 'ITA',\n",
       "       'JAM', 'JPN', 'JOR', 'KAZ', 'KEN', 'KIR', 'PRK', 'KOR', 'KSV',\n",
       "       'KWT', 'KGZ', 'LAO', 'LVA', 'LBN', 'LSO', 'LBR', 'LBY', 'LIE',\n",
       "       'LTU', 'LUX', 'MAC', 'MKD', 'MDG', 'MWI', 'MYS', 'MDV', 'MLI',\n",
       "       'MLT', 'MHL', 'MRT', 'MUS', 'MEX', 'FSM', 'MDA', 'MCO', 'MNG',\n",
       "       'MNE', 'MAR', 'MOZ', 'MMR', 'NAM', 'NPL', 'NLD', 'NCL', 'NZL',\n",
       "       'NIC', 'NER', 'NGA', 'NOR', 'OMN', 'PAK', 'PLW', 'PAN', 'PNG',\n",
       "       'PRY', 'PER', 'PHL', 'POL', 'PRT', 'PRI', 'QAT', 'ROM', 'RUS',\n",
       "       'RWA', 'WSM', 'SMR', 'SAU', 'SEN', 'SRB', 'SYC', 'SLE', 'SGP',\n",
       "       'SVK', 'SVN', 'SLB', 'SOM', 'ZAF', 'SSD', 'ESP', 'LKA', 'KNA',\n",
       "       'LCA', 'VCT', 'SDN', 'SUR', 'SWZ', 'SWE', 'CHE', 'SYR', 'STP',\n",
       "       'TWN', 'TJK', 'TZA', 'THA', 'TMP', 'TGO', 'TON', 'TTO', 'TUN',\n",
       "       'TUR', 'TKM', 'TUV', 'UGA', 'UKR', 'ARE', 'GBR', 'USA', 'URY',\n",
       "       'UZB', 'VUT', 'VEN', 'VNM', 'WBG', 'YEM', 'ZMB', 'ZWE'], dtype=object)"
      ]
     },
     "execution_count": 7,
     "metadata": {},
     "output_type": "execute_result"
    }
   ],
   "source": [
    "df['ISO3'].unique()  ### 3 letter country codes"
   ]
  },
  {
   "cell_type": "code",
   "execution_count": 8,
   "metadata": {
    "collapsed": false,
    "scrolled": true
   },
   "outputs": [
    {
     "data": {
      "text/plain": [
       "array(['AF', 'AL', 'DZ', 'AD', 'AO', 'AG', 'AR', 'AM', 'AW', 'AU', 'AT',\n",
       "       'AZ', 'BS', 'BH', 'BD', 'BB', 'BY', 'BE', 'BZ', 'BJ', 'BM', 'BT',\n",
       "       'BO', 'BA', 'BW', 'BR', 'BN', 'BG', 'BF', 'BI', 'CV', 'KH', 'CM',\n",
       "       'CA', 'KY', 'CF', 'TD', 'CL', 'CN', 'CO', 'KM', 'CD', 'CG', 'CR',\n",
       "       'HR', 'CU', 'CW', 'CY', 'CZ', 'CI', 'DK', 'DJ', 'DM', 'DO', 'EC',\n",
       "       'EG', 'SV', 'GQ', 'ER', 'EE', 'ET', 'FO', 'FJ', 'FI', 'FR', 'PF',\n",
       "       'GA', 'GM', 'GE', 'DE', 'GH', 'GR', 'GD', 'GT', 'GN', 'GW', 'GY',\n",
       "       'HT', 'HN', 'HK', 'HU', 'IS', 'IN', 'ID', 'IR', 'IQ', 'IE', 'IM',\n",
       "       'IL', 'IT', 'JM', 'JP', 'JO', 'KZ', 'KE', 'KI', 'KP', 'KR', 'XK',\n",
       "       'KW', 'KG', 'LA', 'LV', 'LB', 'LS', 'LR', 'LY', 'LI', 'LT', 'LU',\n",
       "       'MO', 'MK', 'MG', 'MW', 'MY', 'MV', 'ML', 'MT', 'MH', 'MR', 'MU',\n",
       "       'MX', 'FM', 'MD', 'MC', 'MN', 'ME', 'MA', 'MZ', 'MM', nan, 'NP',\n",
       "       'NL', 'NC', 'NZ', 'NI', 'NE', 'NG', 'NO', 'OM', 'PK', 'PW', 'PA',\n",
       "       'PG', 'PY', 'PE', 'PH', 'PL', 'PT', 'PR', 'QA', 'RO', 'RU', 'RW',\n",
       "       'WS', 'SM', 'SA', 'SN', 'RS', 'SC', 'SL', 'SG', 'SK', 'SI', 'SB',\n",
       "       'SO', 'ZA', 'SS', 'ES', 'LK', 'KN', 'LC', 'VC', 'SD', 'SR', 'SZ',\n",
       "       'SE', 'CH', 'SY', 'ST', 'TW', 'TJ', 'TZ', 'TH', 'TL', 'TG', 'TO',\n",
       "       'TT', 'TN', 'TR', 'TM', 'TV', 'UG', 'UA', 'AE', 'GB', 'US', 'UY',\n",
       "       'UZ', 'VU', 'VE', 'VN', 'PS', 'YE', 'ZM', 'ZW'], dtype=object)"
      ]
     },
     "execution_count": 8,
     "metadata": {},
     "output_type": "execute_result"
    }
   ],
   "source": [
    "df['ISO2'].unique()  ### 2 letter country codes"
   ]
  },
  {
   "cell_type": "code",
   "execution_count": 9,
   "metadata": {
    "collapsed": false
   },
   "outputs": [
    {
     "data": {
      "text/plain": [
       "array(['South Asia', 'Europe & Central Asia', 'Middle East & North Africa',\n",
       "       'Sub-Saharan Africa', 'Latin America & Caribbean',\n",
       "       'East Asia & Pacific', 'North America'], dtype=object)"
      ]
     },
     "execution_count": 9,
     "metadata": {},
     "output_type": "execute_result"
    }
   ],
   "source": [
    "df['Region'].unique()"
   ]
  },
  {
   "cell_type": "code",
   "execution_count": 10,
   "metadata": {
    "collapsed": false
   },
   "outputs": [
    {
     "data": {
      "text/plain": [
       "array(['Low income', 'Upper middle income', 'High income: nonOECD',\n",
       "       'Lower middle income', 'High income: OECD'], dtype=object)"
      ]
     },
     "execution_count": 10,
     "metadata": {},
     "output_type": "execute_result"
    }
   ],
   "source": [
    "df['Income Group'].unique()"
   ]
  },
  {
   "cell_type": "code",
   "execution_count": 11,
   "metadata": {
    "collapsed": false
   },
   "outputs": [
    {
     "data": {
      "text/plain": [
       "array([1960, 1961, 1962, 1963, 1964, 1965, 1966, 1967, 1968, 1969, 1970,\n",
       "       1971, 1972, 1973, 1974, 1975, 1976, 1977, 1978, 1979, 1980, 1981,\n",
       "       1982, 1983, 1984, 1985, 1986, 1987, 1988, 1989, 1990, 1991, 1992,\n",
       "       1993, 1994, 1995, 1996, 1997, 1998, 1999, 2000, 2001, 2002, 2003,\n",
       "       2004, 2005, 2006, 2007, 2008, 2009, 2010, 2011, 2012, 2013, 2014], dtype=int64)"
      ]
     },
     "execution_count": 11,
     "metadata": {},
     "output_type": "execute_result"
    }
   ],
   "source": [
    "df['Year'].unique()"
   ]
  },
  {
   "cell_type": "code",
   "execution_count": 12,
   "metadata": {
    "collapsed": false,
    "scrolled": true
   },
   "outputs": [
    {
     "data": {
      "text/plain": [
       "array([         nan,    9.005013 ,    9.961    ,   28.26813  ,\n",
       "         37.98635  ,   33.28611  ,   50.47579  ,   39.20354  ,\n",
       "         29.31812  ,   33.13022  ,   50.1973   ,   17.48687  ,\n",
       "         17.23996  ,   99.06484  ,   98.85957  ,   97.08174  ,\n",
       "         96.73406  ,   14.90085  ,   29.15149  ,   64.51457  ,\n",
       "         81.93935  ,   31.74365  ,   29.1421   ,   58.60198  ,\n",
       "         71.98499  ,   96.30613  ,   98.12576  ,   48.20925  ,\n",
       "         10.46394  ,   15.97993  ,   33.66591  ,   28.02913  ,\n",
       "         40.71082  ,   56.21161  ,   52.68503  ,   30.26001  ,\n",
       "         49.24358  ,   55.86038  ,   68.12315  ,   52.8249   ,\n",
       "         62.98683  ,   13.35309  ,   13.42449  ,    7.237984 ,\n",
       "          6.94346  ,    3.659712 ,   12.55649  ,   14.80961  ,\n",
       "         11.35104  ,   95.80464  ,   99.10332  ,    3.300809 ,\n",
       "          8.959745 ,    7.699498 ,   42.17929  ,   63.21075  ,\n",
       "         63.81731  ,   78.92678  ,   30.4278   ,   38.35334  ,\n",
       "         21.69467  ,    3.696726 ,   10.90759  ,   10.04806  ,\n",
       "         16.68366  ,   50.35873  ,   64.55306  ,   88.39102  ,\n",
       "         86.02509  ,   85.23765  ,   90.1502   ,   80.65119  ,\n",
       "         82.17821  ,   15.13626  ,   99.73679  ,  100.       ,\n",
       "         12.27388  ,   38.20467  ,   53.98639  ,   36.7355   ,\n",
       "         46.21243  ,    9.71998  ,   13.65175  ,   13.76462  ,\n",
       "         34.63472  ,   96.82428  ,   97.67167  ,   21.79158  ,\n",
       "         99.65125  ,   96.98389  ,   96.58276  ,   18.94652  ,\n",
       "         30.15455  ,   32.98097  ,   39.66507  ,   98.13362  ,\n",
       "         98.76041  ,   29.42535  ,   34.61837  ,   77.93986  ,\n",
       "         87.51865  ,   22.31888  ,   40.78673  ,    3.68785  ,\n",
       "          6.170127 ,   22.00727  ,   17.4961   ,   20.51226  ,\n",
       "         30.04366  ,   88.68604  ,   96.14764  ,   72.67432  ,\n",
       "         72.25683  ,   35.23184  ,   52.75381  ,   19.58199  ,\n",
       "         35.94736  ,   73.68385  ,   92.17522  ,   10.55375  ,\n",
       "         10.97235  ,   93.88835  ,   94.71014  ,   90.46864  ,\n",
       "         89.95277  ,   71.00853  ,   87.33458  ,   70.9915   ,\n",
       "         78.34596  ,   96.42204  ,   96.64558  ,   25.4711   ,\n",
       "         24.61591  ,   42.10509  ,   53.90742  ,   42.34346  ,\n",
       "         55.20554  ,   93.04687  ,   94.36082  ,   44.30996  ,\n",
       "         47.80315  ,   86.77325  ,   72.90818  ,    3.757264 ,\n",
       "         18.4706   ,   26.77346  ,   89.65883  ,   90.21825  ,\n",
       "         37.02732  ,   46.92714  ,   18.49702  ,   18.80147  ,\n",
       "         73.7552   ,   77.90629  ,   94.58679  ,   96.16869  ,\n",
       "         73.69894  ,   71.7985   ,    5.523223 ,    5.727489 ,\n",
       "         16.54061  ,   16.13567  ,   66.17381  ,   80.67462  ,\n",
       "          8.213853 ,   13.25341  ,   95.27007  ,   96.328    ,\n",
       "         17.46181  ,   20.44538  ,   80.12321  ,   82.20827  ,\n",
       "         27.42938  ,   38.69535  ,   18.06632  ,   17.75575  ,\n",
       "         77.71709  ,   91.82178  ,   50.43801  ,   59.82601  ,\n",
       "         39.07011  ,   39.899231 ,   22.6204   ,   58.06324  ,\n",
       "         25.30856  ,   33.80135  ,   98.65853  ,   99.2956   ,\n",
       "         99.43673  ,   99.52554  ,   14.21833  ,   18.8548   ,\n",
       "          1.521699 ,    3.490045 ,   29.66754  ,   44.1732   ,\n",
       "         73.60242  ,   10.3063   ,    8.706139 ,   24.92649  ,\n",
       "         43.40355  ,   21.72015  ,   20.45868  ,   28.97523  ,\n",
       "         26.55593  ,   28.06573  ,   70.19429  ,   77.86217  ,\n",
       "         81.22942  ,   87.38635  ,   69.73527  ,   65.87539  ,\n",
       "         44.59163  ,   60.79454  ,   48.17849  ,   67.38309  ,\n",
       "         32.76382  ,   38.14489  ,   46.42066  ,   69.40958  ,\n",
       "          5.821141 ,   11.92181  ,   62.21622  ,   83.09234  ,\n",
       "         15.34176  ,   14.14885  ,   98.22189  ,   96.3526   ,\n",
       "         79.58302  ,   77.24139  ,   97.14371  ,   97.24451  ,\n",
       "         31.01479  ,    7.855717 ,   53.64507  ,   68.76723  ,\n",
       "         93.2776   ,   97.57531  ,   68.52617  ,   82.69138  ,\n",
       "          6.899798 ,   15.26843  ,   28.56944  ,   98.99195  ,\n",
       "         99.71992  ,   97.98564  ,   23.25309  ,   91.37632  ,\n",
       "          2.534857 ,   11.45923  ,   17.25777  ,   19.04123  ,\n",
       "         72.66644  ,   78.13655  ,   10.18524  ,   17.61492  ,\n",
       "         75.92206  ,   32.18642  ,   27.26323  ,   57.60143  ,\n",
       "         56.51257  ,    0.4049115,    1.790751 ,   20.46142  ,\n",
       "         27.78342  ,   41.26857  ,   52.71481  ,   59.73237  ,\n",
       "         83.20432  ,   97.20129  ,   98.93105  ,   87.95786  ,\n",
       "         93.5838   ,   23.5426   ,   45.35541  ,   22.50392  ,\n",
       "         40.71001  ,   44.11666  ,   56.85735  ,   21.36949  ,\n",
       "         30.86436  ,   19.42803  ,   24.24381  ,    3.659954 ,\n",
       "          6.448482 ,   21.36491  ,   31.29242  ,   39.65121  ,   17.18949  ])"
      ]
     },
     "execution_count": 12,
     "metadata": {},
     "output_type": "execute_result"
    }
   ],
   "source": [
    "df['GFDD.AI.05'].unique()  ### I didn't really know what this heading stood for, it's a form of economic indicator. "
   ]
  },
  {
   "cell_type": "code",
   "execution_count": null,
   "metadata": {
    "collapsed": true
   },
   "outputs": [],
   "source": [
    "### I've decided I am going to use the 'GFDD.AI.**' columns to investigate some kind of a trend in SQL\n",
    "### I'll normalise the tables so that:\n",
    "### -- Region has its own table; primary key Region name; foreign key in main table showing region name\n",
    "### -- Country has its own table (with ISO code); primary key Country 2 digit code; foreign key in main table\n",
    "### -- Therefore MAIN table will not have Region and Country names, only ISO codes"
   ]
  },
  {
   "cell_type": "markdown",
   "metadata": {
    "collapsed": true
   },
   "source": [
    "## SQL Queries "
   ]
  },
  {
   "cell_type": "markdown",
   "metadata": {},
   "source": [
    "## Check what is already available under schema; then import data from above"
   ]
  },
  {
   "cell_type": "code",
   "execution_count": null,
   "metadata": {
    "collapsed": true
   },
   "outputs": [],
   "source": [
    "# Check tables within the schema, after logging on\n",
    "select TABLESPACE_NAME, TABLE_NAME \n",
    "from USER_TABLES;\n",
    "\n",
    "# Check all tables accessible to current user\n",
    "select TABLESPACE_NAME, TABLE_NAME \n",
    "from ALL_TABLES;\n",
    "\n",
    "# Check an individual table\n",
    "desc 'TABLENAME';"
   ]
  },
  {
   "cell_type": "code",
   "execution_count": null,
   "metadata": {
    "collapsed": true
   },
   "outputs": [],
   "source": [
    "### -- use Data Import wizard, it allows selection of columns\n",
    "### -- Going to create the Region and Country tables using subqueries in a separate Import \n",
    "### -- All 'GFDDAI**' fields are FLOAT "
   ]
  },
  {
   "cell_type": "code",
   "execution_count": null,
   "metadata": {
    "collapsed": true
   },
   "outputs": [],
   "source": [
    "### Import the main sheet again but this time only with Country and Region\n",
    "### Create table for Region & Country combined as there is no ID number for Region, therefore no way of linking separate\n",
    "### Country & Region tables"
   ]
  },
  {
   "cell_type": "code",
   "execution_count": null,
   "metadata": {
    "collapsed": true
   },
   "outputs": [],
   "source": [
    "create TABLE Country AS\n",
    "select DISTINCT Country, Region, ISO2, ISO3\n",
    "from(\n",
    "select * \n",
    "from COUNTRYREGION) C;"
   ]
  },
  {
   "cell_type": "code",
   "execution_count": null,
   "metadata": {
    "collapsed": true
   },
   "outputs": [],
   "source": [
    "select count(*), Country\n",
    "from COUNTRY\n",
    "group by COUNTRY;\n",
    "\n",
    "### 206 Countries, no duplicates\n",
    "### Primary Key: ISO2 in Country table, Foreign Key: ISO2 in Main table"
   ]
  },
  {
   "cell_type": "code",
   "execution_count": null,
   "metadata": {
    "collapsed": true
   },
   "outputs": [],
   "source": [
    "alter TABLE Country \n",
    "    modify (CONSTRAINT main_pk PRIMARY KEY (ISO2));  ### Turn existing field into PRIMARY KEY\n",
    "    \n",
    "alter TABLE MAIN \n",
    "  modify ISO2 CONSTRAINT main_fk REFERENCES Country(ISO2);  ### Turn existing field into FOREIGN KEY"
   ]
  },
  {
   "cell_type": "code",
   "execution_count": null,
   "metadata": {
    "collapsed": true
   },
   "outputs": [],
   "source": [
    "create SEQUENCE main_seq START WITH 1; ### Creating sequence to create ID for Main table as auto-incrementing PRIMARY KEY"
   ]
  },
  {
   "cell_type": "code",
   "execution_count": null,
   "metadata": {
    "collapsed": true
   },
   "outputs": [],
   "source": [
    "create TRIGGER IDX                     ### Creating TRIGGER for IDX primary key to auto-increment.\n",
    "    before INSERT on MAIN\n",
    "    for EACH ROW\n",
    "\n",
    "BEGIN\n",
    "  select main_seq.NEXTVAL\n",
    "  into   ID\n",
    "  from   dual;\n",
    "END;\n",
    "/"
   ]
  },
  {
   "cell_type": "markdown",
   "metadata": {},
   "source": [
    "## Now look at existing schema within SQL Developer "
   ]
  },
  {
   "cell_type": "code",
   "execution_count": null,
   "metadata": {
    "collapsed": true
   },
   "outputs": [],
   "source": [
    "select TABLESPACE_NAME, TABLE_NAME \n",
    "from USER_TABLES;\n",
    "\n",
    "USERS\tREGIONS\n",
    "USERS\tLOCATIONS\n",
    "USERS\tDEPARTMENTS\n",
    "USERS\tJOBS\n",
    "USERS\tEMPLOYEES\n",
    "USERS\tJOB_HISTORY\n"
   ]
  },
  {
   "cell_type": "code",
   "execution_count": null,
   "metadata": {
    "collapsed": true
   },
   "outputs": [],
   "source": [
    "desc REGIONS;  ### look at the \"Regions\" table\n",
    "\n",
    "Name        Null     Type         \n",
    "----------- -------- ------------ \n",
    "REGION_ID   NOT NULL NUMBER       \n",
    "REGION_NAME          VARCHAR2(25) \n",
    "\n",
    "desc LOCATIONS;   ### look at the \"Locations\" table\n",
    "\n",
    "Name           Null     Type         \n",
    "-------------- -------- ------------ \n",
    "LOCATION_ID    NOT NULL NUMBER(4)    \n",
    "STREET_ADDRESS          VARCHAR2(40) \n",
    "POSTAL_CODE             VARCHAR2(12) \n",
    "CITY           NOT NULL VARCHAR2(30) \n",
    "STATE_PROVINCE          VARCHAR2(25) \n",
    "COUNTRY_ID              CHAR(2) \n",
    "\n",
    "desc DEPARTMENTS;   ### look at the \"Departments\" table\n",
    "\n",
    "Name            Null     Type         \n",
    "--------------- -------- ------------ \n",
    "DEPARTMENT_ID   NOT NULL NUMBER(4)    \n",
    "DEPARTMENT_NAME NOT NULL VARCHAR2(30) \n",
    "MANAGER_ID               NUMBER(6)    \n",
    "LOCATION_ID              NUMBER(4) \n",
    "\n",
    "desc JOBS;         ### look at the \"Jobs\" table\n",
    "\n",
    "Name       Null     Type         \n",
    "---------- -------- ------------ \n",
    "JOB_ID     NOT NULL VARCHAR2(10) \n",
    "JOB_TITLE  NOT NULL VARCHAR2(35) \n",
    "MIN_SALARY          NUMBER(6)    \n",
    "MAX_SALARY          NUMBER(6) \n",
    "\n",
    "desc EMPLOYEES     ### look at the \"Employees\" table\n",
    "\n",
    "Name           Null     Type         \n",
    "-------------- -------- ------------ \n",
    "EMPLOYEE_ID    NOT NULL NUMBER(6)    \n",
    "FIRST_NAME              VARCHAR2(20) \n",
    "LAST_NAME      NOT NULL VARCHAR2(25) \n",
    "EMAIL          NOT NULL VARCHAR2(25) \n",
    "PHONE_NUMBER            VARCHAR2(20) \n",
    "HIRE_DATE      NOT NULL DATE         \n",
    "JOB_ID         NOT NULL VARCHAR2(10) \n",
    "SALARY                  NUMBER(8,2)  \n",
    "COMMISSION_PCT          NUMBER(2,2)  \n",
    "MANAGER_ID              NUMBER(6)    \n",
    "DEPARTMENT_ID           NUMBER(4)\n",
    "\n",
    "desc JOB_HISTORY   ### look at the \"Job History\" table\n",
    "\n",
    "Name          Null     Type         \n",
    "------------- -------- ------------ \n",
    "EMPLOYEE_ID   NOT NULL NUMBER(6)    \n",
    "START_DATE    NOT NULL DATE         \n",
    "END_DATE      NOT NULL DATE         \n",
    "JOB_ID        NOT NULL VARCHAR2(10) \n",
    "DEPARTMENT_ID          NUMBER(4)  \n"
   ]
  },
  {
   "cell_type": "markdown",
   "metadata": {},
   "source": [
    "## Script to find Primary KEY"
   ]
  },
  {
   "cell_type": "code",
   "execution_count": null,
   "metadata": {
    "collapsed": true
   },
   "outputs": [],
   "source": [
    "set verify off\n",
    "accept TABLE_NAME char prompt 'Table name>'\n",
    "\n",
    "select COLS.COLUMN_NAME\n",
    "from ALL_CONSTRAINTS as CONS \n",
    "NATURAL JOIN\n",
    "ALL_CONS_COLUMNS as COLS\n",
    "WHERE cons.constraint_type = 'P' AND table_name = UPPER('&TABLE_NAME');\n",
    "\n",
    "EMPLOYEES table:\n",
    "--- \"EMPLOYEE_ID\" \n",
    "JOBS table:\n",
    "--- \"JOB_ID\"\n",
    "REGIONS table:\n",
    "--- \"REGION_ID\"\n",
    "LOCATIONS table:\n",
    "--- \"LOCATION_ID\"\n",
    "DEPARTMENTS table:\n",
    "--- \"DEPARTMENT_ID\"\n",
    "JOB_HISTORY table:\n",
    "--- \"EMPLOYEE_ID\"  \n",
    "--- \"START_DATE\"\n",
    "--- ## Used SQL Developer to check primary key / foreign key relationship for this table:\n",
    "    --- ## Primary Key is in fact complex key \"EMPLOYEED_ID & START_DATE\"\n",
    "    --- ## Foreign Key is \"EMPLOYEE_ID\".\n"
   ]
  },
  {
   "cell_type": "code",
   "execution_count": null,
   "metadata": {
    "collapsed": true
   },
   "outputs": [],
   "source": [
    "### Demonstrate INNER join and subquery example\n",
    "### \"Show all employees that are Managers\""
   ]
  },
  {
   "cell_type": "code",
   "execution_count": null,
   "metadata": {
    "collapsed": true
   },
   "outputs": [],
   "source": [
    "select FIRST_NAME||' '||LAST_NAME as FullName, JOBS.JOB_TITLE\n",
    "from (select * \n",
    "from EMPLOYEES\n",
    "where MANAGER_ID is not null)\n",
    "EMP\n",
    "inner join\n",
    "JOBS\n",
    "on EMP.JOB_ID = JOBS.JOB_ID;"
   ]
  },
  {
   "cell_type": "markdown",
   "metadata": {
    "collapsed": true
   },
   "source": [
    "## Now look at SQL Oracle Objects in general"
   ]
  },
  {
   "cell_type": "code",
   "execution_count": null,
   "metadata": {
    "collapsed": true
   },
   "outputs": [],
   "source": [
    "### List:\n",
    "### table, view, synonym, index, package, package body, sequence, type body, function, procedure, trigger, type\n",
    "### library, materialised view, materialised view log, database link"
   ]
  },
  {
   "cell_type": "code",
   "execution_count": null,
   "metadata": {
    "collapsed": true
   },
   "outputs": [],
   "source": [
    "# Synonym: generally use them when granting access to an object from another schema and don't want to worry\n",
    "# about owner of object.\n",
    "\n",
    "create PUBLIC synonym EMPLOYEES\n",
    "for HR_Oracle.EMPLOYEES;\n",
    "\n",
    "# Create, replace, drop"
   ]
  },
  {
   "cell_type": "code",
   "execution_count": null,
   "metadata": {
    "collapsed": true
   },
   "outputs": [],
   "source": [
    "# Index: allows faster retrieval of records. Generally good practice to use an index on larger tables, can make a \n",
    "# big difference to performance.\n",
    "\n",
    "create index EMPLOYEES_IX\n",
    "    on EMPLOYEES(SALARY)  ### NOT an ideal type to index, \"EMPLOYEE_ID\", \"JOB_ID\", \"DEPARTMENT_ID\", \"MANAGER_ID\" would\n",
    "    COMPUTE STATISTICS;   ### be all better but they are already either PRIMARY or FOREIGN KEYS\n",
    "                          ### Collect statistics.\n",
    "\n",
    "# Can't index columns that are PRIMARY or FOREIGN KEYS already."
   ]
  },
  {
   "cell_type": "code",
   "execution_count": null,
   "metadata": {
    "collapsed": true
   },
   "outputs": [],
   "source": [
    "# Sequence: to create autonumbers (often ideal for PRIMARY keys)\n",
    "\n",
    "create sequence EMPLOYEE_SEQ\n",
    "  MINVALUE 1\n",
    "  MAXVALUE 1000000\n",
    "  START WITH 1\n",
    "  INCREMENT BY 1\n",
    "  CACHE 20;                ### The number looking to cache at a particular time.\n",
    "    \n",
    "EMPOLYEE_SEQ.nextval;     ### This is used to retrieve a particular value using a sequence. An example of its usefulness \n",
    "                          ### is when looking to insert records"
   ]
  },
  {
   "cell_type": "code",
   "execution_count": null,
   "metadata": {
    "collapsed": true
   },
   "outputs": [],
   "source": [
    "# Function: this is an example of locating the Empolyee Number for a particular Employee\n",
    "### *** UNFINISHED ***\n",
    "\n",
    "create FUNCTION FindEmployee\n",
    "   (name_in IN VARCHAR2)\n",
    "   return number\n",
    "IS\n",
    "   number;\n",
    "\n",
    "   cursor E1 is\n",
    "   select EMPLOYEE_ID\n",
    "     from EMPLOYEES\n",
    "     where LAST_NAME = name_in;\n",
    "\n",
    "BEGIN\n",
    "\n",
    "   open E1;\n",
    "   fetch E1 into EMPnumber;\n",
    "\n",
    "   if E1%notfound then\n",
    "      EMPnumber := 9999999;\n",
    "   end if;\n",
    "\n",
    "   close E1;\n",
    "\n",
    "RETURN EMPnumber;\n",
    "\n",
    "EXCEPTION\n",
    "WHEN OTHERS THEN\n",
    "   raise_application_error(-20001,'An error was encountered - '||SQLCODE||' -ERROR- '||SQLERRM);\n",
    "END;"
   ]
  },
  {
   "cell_type": "code",
   "execution_count": null,
   "metadata": {
    "collapsed": true
   },
   "outputs": [],
   "source": [
    "### Drop Function\n",
    "\n",
    "DROP FUNCTION FindEmployee;"
   ]
  },
  {
   "cell_type": "code",
   "execution_count": null,
   "metadata": {
    "collapsed": true
   },
   "outputs": [],
   "source": []
  },
  {
   "cell_type": "code",
   "execution_count": null,
   "metadata": {
    "collapsed": true
   },
   "outputs": [],
   "source": []
  },
  {
   "cell_type": "code",
   "execution_count": null,
   "metadata": {
    "collapsed": true
   },
   "outputs": [],
   "source": []
  },
  {
   "cell_type": "code",
   "execution_count": null,
   "metadata": {
    "collapsed": true
   },
   "outputs": [],
   "source": []
  }
 ],
 "metadata": {
  "kernelspec": {
   "display_name": "Python 3",
   "language": "python",
   "name": "python3"
  },
  "language_info": {
   "codemirror_mode": {
    "name": "ipython",
    "version": 3
   },
   "file_extension": ".py",
   "mimetype": "text/x-python",
   "name": "python",
   "nbconvert_exporter": "python",
   "pygments_lexer": "ipython3",
   "version": "3.6.0"
  }
 },
 "nbformat": 4,
 "nbformat_minor": 2
}
