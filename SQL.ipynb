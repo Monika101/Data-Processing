{
 "cells": [
  {
   "cell_type": "markdown",
   "metadata": {
    "collapsed": true
   },
   "source": [
    "## SQL Queries "
   ]
  },
  {
   "cell_type": "markdown",
   "metadata": {},
   "source": [
    "### Start with simple hypothetical examples, then move to triggers, procedures, functions, sequences."
   ]
  },
  {
   "cell_type": "code",
   "execution_count": null,
   "metadata": {
    "collapsed": true
   },
   "outputs": [],
   "source": [
    "# Check tables within the schema, after logging on\n",
    "select TABLESPACE_NAME, TABLE_NAME \n",
    "from USER_TABLES;\n",
    "\n",
    "# Check all tables accessible to current user\n",
    "select TABLESPACE_NAME, TABLE_NAME \n",
    "from ALL_TABLES;\n",
    "\n",
    "# Check an individual table\n",
    "desc 'TABLENAME';"
   ]
  },
  {
   "cell_type": "code",
   "execution_count": null,
   "metadata": {
    "collapsed": true
   },
   "outputs": [],
   "source": [
    "### Create table for Region & Country combined as there is no ID number for Region, therefore no way\n",
    "### of linking separate Country & Region tables"
   ]
  },
  {
   "cell_type": "code",
   "execution_count": null,
   "metadata": {
    "collapsed": true
   },
   "outputs": [],
   "source": [
    "create TABLE Country AS\n",
    "select DISTINCT Country, Region, ISO2, ISO3\n",
    "from(\n",
    "select * \n",
    "from COUNTRYREGION) C;"
   ]
  },
  {
   "cell_type": "code",
   "execution_count": null,
   "metadata": {
    "collapsed": true
   },
   "outputs": [],
   "source": [
    "select count(*), Country\n",
    "from COUNTRY\n",
    "group by COUNTRY;\n",
    "\n",
    "### 206 Countries, no duplicates\n",
    "### Primary Key: ISO2 in Country table, Foreign Key: ISO2 in Main table"
   ]
  },
  {
   "cell_type": "code",
   "execution_count": null,
   "metadata": {
    "collapsed": true
   },
   "outputs": [],
   "source": [
    "alter TABLE Country \n",
    "    modify (CONSTRAINT main_pk PRIMARY KEY (ISO2));  # Turn existing field into PRIMARY KEY\n",
    "    \n",
    "alter TABLE MAIN \n",
    "  modify ISO2 CONSTRAINT main_fk REFERENCES Country(ISO2);  # Turn existing field into FOREIGN KEY"
   ]
  },
  {
   "cell_type": "code",
   "execution_count": null,
   "metadata": {
    "collapsed": true
   },
   "outputs": [],
   "source": [
    "create SEQUENCE main_seq START WITH 1; \n",
    "### Creating sequence to create ID for Main table as auto-incrementing PRIMARY KEY"
   ]
  },
  {
   "cell_type": "code",
   "execution_count": null,
   "metadata": {
    "collapsed": true
   },
   "outputs": [],
   "source": [
    "# Triggers are stored programs, which are automatically executed or fired when some events occur. \n",
    "# One very good reason for this could be auditing     \"AFTER\""
   ]
  },
  {
   "cell_type": "code",
   "execution_count": null,
   "metadata": {
    "collapsed": true
   },
   "outputs": [],
   "source": [
    "create OR replace trigger PHONE_BOOK_HISTORY\n",
    "    after update ON PHONE_BOOK                              ### AFTER ###\n",
    "\n",
    "begin\n",
    "    insert into PHONE_BOOK_EDIT_HISTORY\n",
    "\n",
    "    (AUDIT_HISTORY_ID, USERNAME, MODIFICATION, EDIT_DATE)    # columns in \"PHONE_BOOK_EDIT_HISTORY\"\n",
    "     values\n",
    "    (AUDIT_HISTORY_ID_SEQUENCE.nextVAL, USER, 'UPDATE', SYSDATE);   ### values to be inserted\n",
    "\n",
    "end;"
   ]
  },
  {
   "cell_type": "code",
   "execution_count": null,
   "metadata": {
    "collapsed": true
   },
   "outputs": [],
   "source": [
    "# Triggers can be also created to enforce constraints. \"BEFORE\""
   ]
  },
  {
   "cell_type": "code",
   "execution_count": null,
   "metadata": {
    "collapsed": true
   },
   "outputs": [],
   "source": [
    "create trigger PHONEBOOK\n",
    "    before insert ON someuser.PHONE_BOOK                 ### BEFORE ####\n",
    "\n",
    "begin\n",
    "    raise_application_error (                           ### if application error raised, record will\n",
    "         num => -20050,                                 ### not be inserted\n",
    "         msg => 'Error message goes here.');\n",
    "end;"
   ]
  },
  {
   "cell_type": "code",
   "execution_count": null,
   "metadata": {
    "collapsed": true
   },
   "outputs": [],
   "source": [
    "create TRIGGER IDX                     ### Creating TRIGGER for IDX primary key to auto-increment.\n",
    "    before INSERT on MAIN              ### BEFORE ###\n",
    "    for EACH ROW\n",
    "\n",
    "begin\n",
    "  select main_seq.NEXTVAL\n",
    "  into   ID\n",
    "  from   dual;\n",
    "end;\n",
    "/"
   ]
  },
  {
   "cell_type": "markdown",
   "metadata": {},
   "source": [
    "## Now look at existing schema within SQL Developer "
   ]
  },
  {
   "cell_type": "code",
   "execution_count": null,
   "metadata": {
    "collapsed": true
   },
   "outputs": [],
   "source": [
    "### This is just to have a good understanding of what is in the database and what columns the tables\n",
    "### are made of.\n",
    "\n",
    "select TABLESPACE_NAME, TABLE_NAME \n",
    "from USER_TABLES;\n",
    "\n",
    "USERS\tREGIONS\n",
    "USERS\tLOCATIONS\n",
    "USERS\tDEPARTMENTS\n",
    "USERS\tJOBS\n",
    "USERS\tEMPLOYEES\n",
    "USERS\tJOB_HISTORY\n"
   ]
  },
  {
   "cell_type": "code",
   "execution_count": null,
   "metadata": {
    "collapsed": true
   },
   "outputs": [],
   "source": [
    "desc REGIONS;  ### look at the \"Regions\" table\n",
    "\n",
    "Name        Null     Type         \n",
    "----------- -------- ------------ \n",
    "REGION_ID   NOT NULL NUMBER       \n",
    "REGION_NAME          VARCHAR2(25) \n",
    "\n",
    "desc LOCATIONS;   ### look at the \"Locations\" table\n",
    "\n",
    "Name           Null     Type         \n",
    "-------------- -------- ------------ \n",
    "LOCATION_ID    NOT NULL NUMBER(4)    \n",
    "STREET_ADDRESS          VARCHAR2(40) \n",
    "POSTAL_CODE             VARCHAR2(12) \n",
    "CITY           NOT NULL VARCHAR2(30) \n",
    "STATE_PROVINCE          VARCHAR2(25) \n",
    "COUNTRY_ID              CHAR(2) \n",
    "\n",
    "desc DEPARTMENTS;   ### look at the \"Departments\" table\n",
    "\n",
    "Name            Null     Type         \n",
    "--------------- -------- ------------ \n",
    "DEPARTMENT_ID   NOT NULL NUMBER(4)    \n",
    "DEPARTMENT_NAME NOT NULL VARCHAR2(30) \n",
    "MANAGER_ID               NUMBER(6)    \n",
    "LOCATION_ID              NUMBER(4) \n",
    "\n",
    "desc JOBS;         ### look at the \"Jobs\" table\n",
    "\n",
    "Name       Null     Type         \n",
    "---------- -------- ------------ \n",
    "JOB_ID     NOT NULL VARCHAR2(10) \n",
    "JOB_TITLE  NOT NULL VARCHAR2(35) \n",
    "MIN_SALARY          NUMBER(6)    \n",
    "MAX_SALARY          NUMBER(6) \n",
    "\n",
    "desc EMPLOYEES     ### look at the \"Employees\" table\n",
    "\n",
    "Name           Null     Type         \n",
    "-------------- -------- ------------ \n",
    "EMPLOYEE_ID    NOT NULL NUMBER(6)    \n",
    "FIRST_NAME              VARCHAR2(20) \n",
    "LAST_NAME      NOT NULL VARCHAR2(25) \n",
    "EMAIL          NOT NULL VARCHAR2(25) \n",
    "PHONE_NUMBER            VARCHAR2(20) \n",
    "HIRE_DATE      NOT NULL DATE         \n",
    "JOB_ID         NOT NULL VARCHAR2(10) \n",
    "SALARY                  NUMBER(8,2)  \n",
    "COMMISSION_PCT          NUMBER(2,2)  \n",
    "MANAGER_ID              NUMBER(6)    \n",
    "DEPARTMENT_ID           NUMBER(4)\n",
    "\n",
    "desc JOB_HISTORY   ### look at the \"Job History\" table\n",
    "\n",
    "Name          Null     Type         \n",
    "------------- -------- ------------ \n",
    "EMPLOYEE_ID   NOT NULL NUMBER(6)    \n",
    "START_DATE    NOT NULL DATE         \n",
    "END_DATE      NOT NULL DATE         \n",
    "JOB_ID        NOT NULL VARCHAR2(10) \n",
    "DEPARTMENT_ID          NUMBER(4)  \n"
   ]
  },
  {
   "cell_type": "markdown",
   "metadata": {},
   "source": [
    "## Script to find Primary KEY"
   ]
  },
  {
   "cell_type": "code",
   "execution_count": null,
   "metadata": {
    "collapsed": true
   },
   "outputs": [],
   "source": [
    "set verify off\n",
    "accept TABLE_NAME char prompt 'Table name>'\n",
    "\n",
    "select COLS.COLUMN_NAME                \n",
    "from ALL_CONSTRAINTS as CONS              ### Check PK/FK keys to understand relationships better.\n",
    "NATURAL JOIN\n",
    "ALL_CONS_COLUMNS as COLS\n",
    "WHERE cons.constraint_type = 'P' AND table_name = UPPER('&TABLE_NAME');\n",
    "\n",
    "EMPLOYEES table:\n",
    "--- \"EMPLOYEE_ID\" \n",
    "JOBS table:\n",
    "--- \"JOB_ID\"\n",
    "REGIONS table:\n",
    "--- \"REGION_ID\"\n",
    "LOCATIONS table:\n",
    "--- \"LOCATION_ID\"\n",
    "DEPARTMENTS table:\n",
    "--- \"DEPARTMENT_ID\"\n",
    "JOB_HISTORY table:                        ### PK is complex key.\n",
    "--- \"EMPLOYEE_ID\"  \n",
    "--- \"START_DATE\""
   ]
  },
  {
   "cell_type": "markdown",
   "metadata": {
    "collapsed": true
   },
   "source": [
    "### Demonstrate INNER join and subquery example\n",
    "### \"Show all employees that are Managers\""
   ]
  },
  {
   "cell_type": "code",
   "execution_count": null,
   "metadata": {
    "collapsed": true
   },
   "outputs": [],
   "source": [
    "select EMP.FIRST_NAME||' '||EMP.LAST_NAME as Fullname, JOBS.JOB_TITLE\n",
    "from                                                                    ### INLINE VIEW ###\n",
    "(select * \n",
    "from EMPLOYEES\n",
    "where COMMISSION_PCT is null) EMP                   ### List of employees not paid commission \n",
    "inner join                                          ### Join is possile with Subqueries\n",
    "JOBS\n",
    "on EMP.JOB_ID = JOBS.JOB_ID\n",
    "ORDER BY JOBS.JOB_TITLE;"
   ]
  },
  {
   "cell_type": "code",
   "execution_count": null,
   "metadata": {
    "collapsed": true
   },
   "outputs": [],
   "source": [
    "### Subquery in the \"FROM\" clause of the \"SELECT\" statement, the \"INLINE VIEW\"\n",
    "### Subquery in the \"WHERE\" clause of the \"SELECT\" statement, the \"NESTED SUBQUERY\"\n",
    "### A subquery can also be nested inside INSERT, UPDATE, and DELETE statements."
   ]
  },
  {
   "cell_type": "code",
   "execution_count": null,
   "metadata": {
    "collapsed": true
   },
   "outputs": [],
   "source": [
    "select FIRST_NAME||' '||LAST_NAME as FullName, SALARY, DEPARTMENT_ID\n",
    "from EMPLOYEES\n",
    "where SALARY = (select MIN(SALARY) from EMPLOYEES);     ### NESTED SUBQUERY\n",
    "                                                        ### only show employee with lowest salary\n",
    "select DEPARTMENT_ID, MIN(SALARY)\n",
    "from EMPLOYEES                                          ### employees with salary lower than average\n",
    "group by DEPARTMENT_ID\n",
    "having MIN(SALARY) < (select AVG(SALARY) from EMPLOYEES);      "
   ]
  },
  {
   "cell_type": "code",
   "execution_count": null,
   "metadata": {
    "collapsed": true
   },
   "outputs": [],
   "source": [
    "### Correlated Subquery is where the value of the inner subquery depends on the value of the outer \n",
    "### subquery\n",
    "### This means that in a correlated subquery (usually not efficient for large datasets)"
   ]
  },
  {
   "cell_type": "code",
   "execution_count": null,
   "metadata": {
    "collapsed": true
   },
   "outputs": [],
   "source": [
    "select FIRST_NAME||' '||LAST_NAME as FullName, JOB_ID, SALARY\n",
    "from EMPLOYEES\n",
    "where (SALARY, DEPARTMENT_ID)\n",
    "in                                              ## Using \"IN\" because returning several rows from\n",
    "(select SALARY, DEPARTMENT_ID                   ## subquery\n",
    " from EMPLOYEES\n",
    " where SALARY between 1000 and 20000\n",
    " and\n",
    " DEPARTMENT_ID between 10 and 20)               ## Selecting employees with particular salary range\n",
    "order by FullName;                              ## and from particular departments"
   ]
  },
  {
   "cell_type": "markdown",
   "metadata": {
    "collapsed": true
   },
   "source": [
    "## Now look at SQL Oracle Objects in general"
   ]
  },
  {
   "cell_type": "code",
   "execution_count": null,
   "metadata": {
    "collapsed": true
   },
   "outputs": [],
   "source": [
    "### List of objects:\n",
    "### table, view, synonym, index, package, package body, sequence, type body, function, procedure, \n",
    "### trigger, type, library, materialised view, materialised view log, database link"
   ]
  },
  {
   "cell_type": "markdown",
   "metadata": {},
   "source": [
    "### Synonym: generally use them when granting access to an object from another schema and \n",
    "### not worried about owner of object."
   ]
  },
  {
   "cell_type": "code",
   "execution_count": null,
   "metadata": {
    "collapsed": true
   },
   "outputs": [],
   "source": [
    "create PUBLIC synonym EMPLOYEES\n",
    "for HR_Oracle.EMPLOYEES;\n",
    "\n",
    "# Create, replace, drop"
   ]
  },
  {
   "cell_type": "markdown",
   "metadata": {},
   "source": [
    "### Index: allows faster retrieval of records. Generally good practice to use an index on larger tables, \n",
    "### can make a big difference to performance."
   ]
  },
  {
   "cell_type": "code",
   "execution_count": null,
   "metadata": {
    "collapsed": true
   },
   "outputs": [],
   "source": [
    "create index EMPLOYEES_IX\n",
    "    on EMPLOYEES(SALARY)  # NOT an ideal type to index, \"EMPLOYEE_ID\", \"JOB_ID\", \"DEPARTMENT_ID\", \n",
    "                          # \"MANAGER_ID\" would be better but they are already CONSTRAINTS.\n",
    "    COMPUTE STATISTICS;   # Collect statistics.\n",
    "\n",
    "# Can't index columns that are PRIMARY or FOREIGN KEYS already."
   ]
  },
  {
   "cell_type": "markdown",
   "metadata": {},
   "source": [
    "### Sequence: to create autonumbers (often ideal for PRIMARY keys)"
   ]
  },
  {
   "cell_type": "code",
   "execution_count": null,
   "metadata": {
    "collapsed": true
   },
   "outputs": [],
   "source": [
    "create sequence EMPLOYEE_SEQ\n",
    "  MINVALUE 1\n",
    "  MAXVALUE 1000000\n",
    "  START WITH 1\n",
    "  INCREMENT BY 1\n",
    "  CACHE 20;               ### The number looking to cache at a particular time.\n",
    "    \n",
    "EMPOLYEE_SEQ.nextval;     ### This is used to retrieve a particular value using a sequence. \n",
    "                          ### An example of its usefulness is when looking to insert records."
   ]
  },
  {
   "cell_type": "markdown",
   "metadata": {},
   "source": [
    "### Procedure: uses comparison operator 'LIKE' to search for pattern in text"
   ]
  },
  {
   "cell_type": "code",
   "execution_count": null,
   "metadata": {
    "collapsed": true
   },
   "outputs": [],
   "source": [
    "declare   \n",
    "\n",
    "procedure\n",
    "    compare (value VARCHAR2, pattern VARCHAR2) is      ### calls procedure\n",
    "    begin \n",
    "    if value LIKE pattern\n",
    "          then\n",
    "          dbms_output.put_line('FOUND IT!');\n",
    "    else\n",
    "          dbms_output.put_line('keep searching');\n",
    "    \n",
    "    end if;\n",
    "  \n",
    "    end;   \n",
    "  \n",
    "    begin\n",
    "  \n",
    "        compare('Taylor Smith', 'T% S%');  ## compares 'Taylor Smith' to pattern 'T''S' (valid)\n",
    "        compare('Margaret Smith', 'T% S%');  ## compares 'Margaret Smith' to pattern 'T''S' \n",
    "                                             ## (invalid)\n",
    "  end;\n",
    "/\n",
    "********************\n",
    "PL/SQL procedure successfully completed.\n",
    "\n",
    "FOUND IT!\n",
    "keep searching\n",
    "********************"
   ]
  },
  {
   "cell_type": "markdown",
   "metadata": {},
   "source": [
    "### Procedure using existing Pipeline Opportunity (for example) - updating the OPPORTUNITY table"
   ]
  },
  {
   "cell_type": "code",
   "execution_count": null,
   "metadata": {
    "collapsed": true
   },
   "outputs": [],
   "source": [
    "create procedure UPDATE_OPPORTUNITY\n",
    "    (OPP_ID number, STATUS, varchar2) as\n",
    "    \n",
    "    STATUS_FINAL real;             ### if \"STATUS_FINAL\" is not null\n",
    "    STATUS_MISSING exception;      ### raises error if \"STATUS_FINAL\" is null\n",
    "    \n",
    "    begin\n",
    "        select OPP_STATUS into STATUS_FINAL from OPPORTUNITY\n",
    "        where OPPORTUNITY_ID = OPP_ID;\n",
    "        if STATUS_FINAL is null\n",
    "            then\n",
    "            raise STATUS_MISSING;            ### raises error as noted above\n",
    "        else\n",
    "            update OPPORTUNITY\n",
    "            set OPPORTUNITY_STATUS = 'Closed Lost'   \n",
    "            where OPPORTUNITY_ID = OPP_ID    ### Specifies the conditions on when to \n",
    "            and                              ### update \"OPPORTUNITY\" table\n",
    "            STATUS = 'Lost';\n",
    "            \n",
    "        end if;\n",
    "        exception                             ### Raising exception for procedure\n",
    "            when STATUS_MISSING\n",
    "            then\n",
    "                dbms_output.put_line('This opportunity will not be updated');\n",
    "                OPPORTUNITY_STATUS := 'NA';\n",
    "                    \n",
    "            when OTHERS then\n",
    "                NULL;                       ### Exception to do nothing.\n",
    "                \n",
    "end UPDATE_OPPORTUNITY;\n",
    "/"
   ]
  },
  {
   "cell_type": "code",
   "execution_count": null,
   "metadata": {
    "collapsed": true
   },
   "outputs": [],
   "source": [
    "call UPDATE_OPPORTUNITY (2555203669, 'Lost');       ## Call procedure to be performed."
   ]
  },
  {
   "cell_type": "code",
   "execution_count": null,
   "metadata": {
    "collapsed": true
   },
   "outputs": [],
   "source": [
    "### You can use a procedure in \"DECLARE\" and execute it as part of a subprogram."
   ]
  },
  {
   "cell_type": "markdown",
   "metadata": {
    "collapsed": true
   },
   "source": [
    "### Using Condition, a simple IF statement for updating a table"
   ]
  },
  {
   "cell_type": "code",
   "execution_count": null,
   "metadata": {
    "collapsed": true
   },
   "outputs": [],
   "source": [
    "### Updating the EMPLOYEES table with salary for employee number 100\n",
    "\n",
    "declare\n",
    "  E_ID EMPLOYEES.EMPLOYEE_ID%TYPE := 100;  ## will update this record if condition is True.\n",
    "  E_SAL EMPLOYEES.SALARY%TYPE;             ## %TYPE is to make sure column has same type as \n",
    "                                           ## original table\n",
    "begin\n",
    "  select SALARY\n",
    "  into E_SAL\n",
    "  from EMPLOYEES\n",
    "  where EMPLOYEE_ID = E_ID;\n",
    "  \n",
    "    if (E_SAL < 30000) then                ## if salary is less than 30,000 then EMPLOYEES table \n",
    "      update EMPLOYEES                     ## is updated\n",
    "                                           \n",
    "      set SALARY = SALARY + 10000\n",
    "        where\n",
    "        EMPLOYEE_ID = E_ID;\n",
    "        \n",
    "        dbms_output.put_line('Salary Updated');\n",
    "        \n",
    "     end if;\n",
    "    \n",
    "end;\n",
    "/"
   ]
  },
  {
   "cell_type": "markdown",
   "metadata": {},
   "source": [
    "### Using \"CASE\" for a simple salary band comparison"
   ]
  },
  {
   "cell_type": "code",
   "execution_count": null,
   "metadata": {
    "collapsed": true
   },
   "outputs": [],
   "source": [
    "declare\n",
    "\n",
    "  E_ID EMPLOYEES.EMPLOYEE_ID%TYPE := 100;\n",
    "  E_SAL EMPLOYEES.SALARY%TYPE;\n",
    "  \n",
    "  begin\n",
    "  \n",
    "    select SALARY\n",
    "    into E_SAL\n",
    "    from EMPLOYEES\n",
    "    where EMPLOYEE_ID = E_ID;\n",
    "    \n",
    "    case\n",
    "    \n",
    "      when E_SAL < 10000 then dbms_output.put_line('too low ' || E_SAL);\n",
    "      when E_SAL >= 10000 and E_SAL < 30000 then dbms_output.put_line('average '|| E_SAL);\n",
    "      when E_SAL >= 30000 then dbms_output.put_line('good '|| E_SAL);\n",
    "      \n",
    "    else\n",
    "      dbms_output.put_line('off scale '|| E_SAL);\n",
    "      \n",
    "    end case;\n",
    "    \n",
    "  end;\n",
    "  \n",
    "/"
   ]
  },
  {
   "cell_type": "markdown",
   "metadata": {
    "collapsed": true
   },
   "source": [
    "### Loops"
   ]
  },
  {
   "cell_type": "code",
   "execution_count": null,
   "metadata": {
    "collapsed": true
   },
   "outputs": [],
   "source": [
    "### A very simple loop with \"exit\" instead of using \"IF/ELSIF/ELSE\"\n",
    "declare\n",
    "    x number := 10;\n",
    "  \n",
    "    begin\n",
    "        loop\n",
    "        dbms_output.put_line(x);\n",
    "      \n",
    "            x := x + 5;\n",
    "      \n",
    "        exit when x > 50;\n",
    "    end loop;\n",
    "  end;\n",
    "/\n",
    "\n",
    "######################################################################\n",
    "\n",
    "### Same as above, except using \"WHILE\" loop.\n",
    "\n",
    "declare\n",
    "    x number := 10;\n",
    "    begin\n",
    "        while x <= 50 loop\n",
    "    \n",
    "          dbms_output.put_line(x);\n",
    "        \n",
    "          x := x + 5;\n",
    "    end loop;\n",
    "  end;\n",
    "/"
   ]
  },
  {
   "cell_type": "code",
   "execution_count": null,
   "metadata": {
    "collapsed": true
   },
   "outputs": [],
   "source": [
    "### For loop - simple, showing reverse order and keyword positionining\n",
    "\n",
    "declare\n",
    "    a number (2);\n",
    "    begin\n",
    "    for a in 10 .. 20 loop\n",
    "  \n",
    "        dbms_output.put_line('looping: '||a);\n",
    "    \n",
    "    end loop;\n",
    "end;\n",
    "/\n",
    "######################################################\n",
    "\n",
    "declare\n",
    "    a number (2);\n",
    "    begin\n",
    "    for a in reverse 10 .. 20 loop      ### counting within loop is reversed\n",
    "  \n",
    "        dbms_output.put_line('looping: '||a);\n",
    "    \n",
    "  end loop;\n",
    "end;\n",
    "/"
   ]
  },
  {
   "cell_type": "code",
   "execution_count": null,
   "metadata": {
    "collapsed": true
   },
   "outputs": [],
   "source": [
    "### Cursor: retrieves particular attributes selected under 'declare'. "
   ]
  },
  {
   "cell_type": "code",
   "execution_count": null,
   "metadata": {
    "collapsed": true
   },
   "outputs": [],
   "source": [
    "### Function: this is an example of locating the Empolyee Number for a particular Employee"
   ]
  },
  {
   "cell_type": "code",
   "execution_count": null,
   "metadata": {
    "collapsed": true
   },
   "outputs": [],
   "source": [
    "### *** UNFINISHED ***\n",
    "\n",
    "create FUNCTION FindEmployee\n",
    "   (name_in IN VARCHAR2)\n",
    "   return number\n",
    "IS\n",
    "   number;\n",
    "\n",
    "   cursor E1 is\n",
    "   select EMPLOYEE_ID\n",
    "     from EMPLOYEES\n",
    "     where LAST_NAME = name_in;\n",
    "\n",
    "begin\n",
    "\n",
    "   open E1;\n",
    "   fetch E1 into EMPnumber;\n",
    "\n",
    "   if E1%notfound then\n",
    "      EMPnumber := 9999999;\n",
    "   end if;\n",
    "\n",
    "   close E1;\n",
    "\n",
    "return EMPnumber;\n",
    "\n",
    "exception\n",
    "when OTHERS then\n",
    "   raise_application_error(-20001,'An error was encountered - '||SQLCODE||' -ERROR- '||SQLERRM);\n",
    "end;\n",
    "/"
   ]
  },
  {
   "cell_type": "code",
   "execution_count": null,
   "metadata": {
    "collapsed": true
   },
   "outputs": [],
   "source": [
    "### Make sure output is printed \n",
    "\n",
    "SET SERVEROUTPUT ON;"
   ]
  },
  {
   "cell_type": "code",
   "execution_count": null,
   "metadata": {
    "collapsed": true
   },
   "outputs": [],
   "source": [
    "### Drop Function (or any other object, of course)\n",
    "\n",
    "DROP FUNCTION FindEmployee;"
   ]
  }
 ],
 "metadata": {
  "kernelspec": {
   "display_name": "Python 3",
   "language": "python",
   "name": "python3"
  },
  "language_info": {
   "codemirror_mode": {
    "name": "ipython",
    "version": 3
   },
   "file_extension": ".py",
   "mimetype": "text/x-python",
   "name": "python",
   "nbconvert_exporter": "python",
   "pygments_lexer": "ipython3",
   "version": "3.6.0"
  }
 },
 "nbformat": 4,
 "nbformat_minor": 2
}
